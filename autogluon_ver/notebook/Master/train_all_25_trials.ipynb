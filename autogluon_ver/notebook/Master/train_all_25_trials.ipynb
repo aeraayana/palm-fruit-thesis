{
 "cells": [
  {
   "cell_type": "markdown",
   "metadata": {},
   "source": [
    "# Training All 25 Trials"
   ]
  },
  {
   "cell_type": "markdown",
   "metadata": {},
   "source": [
    "## Library Imports"
   ]
  },
  {
   "cell_type": "code",
   "execution_count": 1,
   "metadata": {},
   "outputs": [
    {
     "name": "stderr",
     "output_type": "stream",
     "text": [
      "e:\\Programs\\miniforge3\\envs\\autogluon_stable_112\\Lib\\site-packages\\tqdm\\auto.py:21: TqdmWarning: IProgress not found. Please update jupyter and ipywidgets. See https://ipywidgets.readthedocs.io/en/stable/user_install.html\n",
      "  from .autonotebook import tqdm as notebook_tqdm\n",
      "2024-12-29 01:53:46,367\tINFO util.py:154 -- Missing packages: ['ipywidgets']. Run `pip install -U ipywidgets`, then restart the notebook server for rich notebook output.\n",
      "2024-12-29 01:53:46,488\tINFO util.py:154 -- Missing packages: ['ipywidgets']. Run `pip install -U ipywidgets`, then restart the notebook server for rich notebook output.\n"
     ]
    }
   ],
   "source": [
    "from autogluon.multimodal import MultiModalPredictor\n",
    "from ray import tune\n",
    "from sklearn.utils.class_weight import compute_class_weight\n",
    "from sklearn.metrics import confusion_matrix, ConfusionMatrixDisplay\n",
    "from sklearn.metrics import classification_report\n",
    "from PIL import Image\n",
    "import matplotlib.pyplot as plt\n",
    "import pandas as pd\n",
    "import numpy as np\n",
    "import datetime\n",
    "import torch\n",
    "import os\n",
    "\n",
    "torch.set_float32_matmul_precision(\"medium\")"
   ]
  },
  {
   "cell_type": "code",
   "execution_count": 2,
   "metadata": {},
   "outputs": [],
   "source": [
    "NUM_TRIALS = 25"
   ]
  },
  {
   "cell_type": "markdown",
   "metadata": {},
   "source": [
    "## Data Imports"
   ]
  },
  {
   "cell_type": "code",
   "execution_count": 3,
   "metadata": {},
   "outputs": [],
   "source": [
    "train_df = pd.read_csv(\"E:/Current_Workdir/palm-fruit-classification/data/clean/train_df.csv\")\n",
    "test_df = pd.read_csv(\"E:/Current_Workdir/palm-fruit-classification/data/clean/test_df.csv\")"
   ]
  },
  {
   "cell_type": "markdown",
   "metadata": {},
   "source": [
    "## Finetuning EfficientNet B2"
   ]
  },
  {
   "cell_type": "markdown",
   "metadata": {},
   "source": [
    "Calculate class proportions for Focal Loss $\\alpha$  \n",
    "see [this](https://amaarora.github.io/posts/2020-06-29-FocalLoss.html) for details."
   ]
  },
  {
   "cell_type": "code",
   "execution_count": 4,
   "metadata": {},
   "outputs": [
    {
     "data": {
      "text/plain": [
       "[2.1965174129353233,\n",
       " 1.1964769647696476,\n",
       " 0.44327309236947793,\n",
       " 5.660256410256411,\n",
       " 0.5145687645687645,\n",
       " 3.003401360544218]"
      ]
     },
     "execution_count": 4,
     "metadata": {},
     "output_type": "execute_result"
    }
   ],
   "source": [
    "class_weights = compute_class_weight(class_weight=\"balanced\", classes=np.unique(train_df[\"label_text\"]), y=train_df[\"label_text\"])\n",
    "class_weights_list = class_weights.tolist()\n",
    "class_weights_list"
   ]
  },
  {
   "cell_type": "markdown",
   "metadata": {},
   "source": [
    "Set Training Folder Name"
   ]
  },
  {
   "cell_type": "code",
   "execution_count": 5,
   "metadata": {},
   "outputs": [],
   "source": [
    "now = datetime.datetime.now()\n",
    "timestamp_str = now.strftime(\"%Y-%m-%d_%H-%M-%S\")\n",
    "model_path_efficientnet_b2 = \"../../model/master/\" + f\"train_EfficientNetB2_25_trials_{timestamp_str}\""
   ]
  },
  {
   "cell_type": "code",
   "execution_count": 6,
   "metadata": {},
   "outputs": [
    {
     "data": {
      "text/plain": [
       "'../../model/master/train_EfficientNetB2_25_trials_2024-12-29_01-53-46'"
      ]
     },
     "execution_count": 6,
     "metadata": {},
     "output_type": "execute_result"
    }
   ],
   "source": [
    "model_path_efficientnet_b2"
   ]
  },
  {
   "cell_type": "code",
   "execution_count": 7,
   "metadata": {},
   "outputs": [],
   "source": [
    "os.makedirs(model_path_efficientnet_b2, exist_ok=True)"
   ]
  },
  {
   "cell_type": "markdown",
   "metadata": {},
   "source": [
    "Defining Hyperparameters"
   ]
  },
  {
   "cell_type": "code",
   "execution_count": 8,
   "metadata": {},
   "outputs": [],
   "source": [
    "hyperparameters_efficientnet_b2 = {\n",
    "    \"optimization.learning_rate\": tune.loguniform(0.00001, 0.001),\n",
    "    \"optimization.max_epochs\":tune.randint(5,20),\n",
    "    \"env.batch_size\": tune.choice([8, 16, 32, 64, 128, 256]),\n",
    "    #\"env.batch_size\": tune.qlograndint(8,128,2),\n",
    "    \"optimization.loss_function\": \"focal_loss\",\n",
    "    \"optimization.focal_loss.alpha\": class_weights_list,\n",
    "    \"optimization.focal_loss.gamma\": tune.uniform(2, 3),\n",
    "    \"optimization.focal_loss.reduction\": \"sum\",\n",
    "    \"model.timm_image.checkpoint_name\": \"efficientnet_b2\",\n",
    "    \"optimization.optim_type\": \"adamw\",\n",
    "    \"optimization.top_k_average_method\": \"best\"\n",
    "}"
   ]
  },
  {
   "cell_type": "code",
   "execution_count": 9,
   "metadata": {},
   "outputs": [],
   "source": [
    "predictor_efficientnet_b2 = MultiModalPredictor(label=\"label_text\", path=model_path_efficientnet_b2, problem_type='multiclass', eval_metric=\"f1_macro\")"
   ]
  },
  {
   "cell_type": "code",
   "execution_count": 10,
   "metadata": {},
   "outputs": [],
   "source": [
    "hyperparameter_tune_kwargs = {\n",
    "    \"searcher\": \"bayes\",\n",
    "    \"scheduler\": \"ASHA\",\n",
    "    \"num_trials\": NUM_TRIALS\n",
    "}"
   ]
  },
  {
   "cell_type": "code",
   "execution_count": 11,
   "metadata": {},
   "outputs": [
    {
     "name": "stderr",
     "output_type": "stream",
     "text": [
      "=================== System Info ===================\n",
      "AutoGluon Version:  1.1.1\n",
      "Python Version:     3.11.10\n",
      "Operating System:   Windows\n",
      "Platform Machine:   AMD64\n",
      "Platform Version:   10.0.19045\n",
      "CPU Count:          32\n",
      "Pytorch Version:    2.4.1\n",
      "CUDA Version:       12.4\n",
      "Memory Avail:       112.15 GB / 127.91 GB (87.7%)\n",
      "Disk Space Avail:   1397.11 GB / 1863.00 GB (75.0%)\n",
      "===================================================\n"
     ]
    },
    {
     "data": {
      "text/html": [
       "<div class=\"tuneStatus\">\n",
       "  <div style=\"display: flex;flex-direction: row\">\n",
       "    <div style=\"display: flex;flex-direction: column;\">\n",
       "      <h3>Tune Status</h3>\n",
       "      <table>\n",
       "<tbody>\n",
       "<tr><td>Current time:</td><td>2024-12-29 02:51:08</td></tr>\n",
       "<tr><td>Running for: </td><td>00:57:13.45        </td></tr>\n",
       "<tr><td>Memory:      </td><td>21.3/127.9 GiB     </td></tr>\n",
       "</tbody>\n",
       "</table>\n",
       "    </div>\n",
       "    <div class=\"vDivider\"></div>\n",
       "    <div class=\"systemInfo\">\n",
       "      <h3>System Info</h3>\n",
       "      Using AsyncHyperBand: num_stopped=18<br>Bracket: Iter 4096.000: None | Iter 1024.000: None | Iter 256.000: None | Iter 64.000: None | Iter 16.000: 0.9897438883781433 | Iter 4.000: 0.8273778557777405 | Iter 1.000: 0.45576292276382446<br>Logical resource usage: 32.0/32 CPUs, 1.0/1 GPUs (0.0/1.0 accelerator_type:G)\n",
       "    </div>\n",
       "    \n",
       "  </div>\n",
       "  <div class=\"hDivider\"></div>\n",
       "  <div class=\"trialStatus\">\n",
       "    <h3>Trial Status</h3>\n",
       "    <table>\n",
       "<thead>\n",
       "<tr><th>Trial name  </th><th>status    </th><th>loc            </th><th style=\"text-align: right;\">  env.batch_size</th><th>model.names         </th><th>model.timm_image.che\n",
       "ckpoint_name                </th><th>optimization.focal_l\n",
       "oss.alpha                     </th><th style=\"text-align: right;\">        optimization.focal_l\n",
       "oss.gamma</th><th>optimization.focal_l\n",
       "oss.reduction    </th><th style=\"text-align: right;\">            optimization.learnin\n",
       "g_rate</th><th>optimization.loss_fu\n",
       "nction           </th><th style=\"text-align: right;\">   optimization.max_epo\n",
       "chs</th><th>optimization.optim_t\n",
       "ype      </th><th>optimization.top_k_a\n",
       "verage_method     </th><th style=\"text-align: right;\">  iter</th><th style=\"text-align: right;\">  total time (s)</th><th style=\"text-align: right;\">  val_f1_macro</th></tr>\n",
       "</thead>\n",
       "<tbody>\n",
       "<tr><td>3bd98b70    </td><td>TERMINATED</td><td>127.0.0.1:27108</td><td style=\"text-align: right;\">             256</td><td>(&#x27;timm_image&#x27;, _63c0</td><td>efficientnet_b2</td><td>(2.196517412935_88e0</td><td style=\"text-align: right;\">2.57308</td><td>sum</td><td style=\"text-align: right;\">0.000880279</td><td>focal_loss</td><td style=\"text-align: right;\"> 7</td><td>adamw</td><td>best</td><td style=\"text-align: right;\">    14</td><td style=\"text-align: right;\">        199.986 </td><td style=\"text-align: right;\">      0.929322</td></tr>\n",
       "<tr><td>0bafbc14    </td><td>TERMINATED</td><td>127.0.0.1:42992</td><td style=\"text-align: right;\">              32</td><td>(&#x27;timm_image&#x27;, _0f00</td><td>efficientnet_b2</td><td>(2.196517412935_1480</td><td style=\"text-align: right;\">2.84519</td><td>sum</td><td style=\"text-align: right;\">0.000123157</td><td>focal_loss</td><td style=\"text-align: right;\">14</td><td>adamw</td><td>best</td><td style=\"text-align: right;\">     4</td><td style=\"text-align: right;\">         80.7139</td><td style=\"text-align: right;\">      0.734989</td></tr>\n",
       "<tr><td>38fb6fe0    </td><td>TERMINATED</td><td>127.0.0.1:14012</td><td style=\"text-align: right;\">              16</td><td>(&#x27;timm_image&#x27;, _1540</td><td>efficientnet_b2</td><td>(2.196517412935_e0e0</td><td style=\"text-align: right;\">2.92338</td><td>sum</td><td style=\"text-align: right;\">0.00019665 </td><td>focal_loss</td><td style=\"text-align: right;\">13</td><td>adamw</td><td>best</td><td style=\"text-align: right;\">    26</td><td style=\"text-align: right;\">        352.75  </td><td style=\"text-align: right;\">      0.989048</td></tr>\n",
       "<tr><td>a29258c6    </td><td>TERMINATED</td><td>127.0.0.1:6528 </td><td style=\"text-align: right;\">              32</td><td>(&#x27;timm_image&#x27;, _0c00</td><td>efficientnet_b2</td><td>(2.196517412935_e140</td><td style=\"text-align: right;\">2.95541</td><td>sum</td><td style=\"text-align: right;\">0.000148408</td><td>focal_loss</td><td style=\"text-align: right;\">12</td><td>adamw</td><td>best</td><td style=\"text-align: right;\">     1</td><td style=\"text-align: right;\">         43.5578</td><td style=\"text-align: right;\">      0.312694</td></tr>\n",
       "<tr><td>af66db80    </td><td>TERMINATED</td><td>127.0.0.1:26880</td><td style=\"text-align: right;\">              32</td><td>(&#x27;timm_image&#x27;, _2c40</td><td>efficientnet_b2</td><td>(2.196517412935_1360</td><td style=\"text-align: right;\">2.59976</td><td>sum</td><td style=\"text-align: right;\">7.24886e-05</td><td>focal_loss</td><td style=\"text-align: right;\">18</td><td>adamw</td><td>best</td><td style=\"text-align: right;\">     1</td><td style=\"text-align: right;\">         43.5574</td><td style=\"text-align: right;\">      0.214851</td></tr>\n",
       "<tr><td>fa22b188    </td><td>TERMINATED</td><td>127.0.0.1:42960</td><td style=\"text-align: right;\">              16</td><td>(&#x27;timm_image&#x27;, _3680</td><td>efficientnet_b2</td><td>(2.196517412935_e200</td><td style=\"text-align: right;\">2.78695</td><td>sum</td><td style=\"text-align: right;\">6.01341e-05</td><td>focal_loss</td><td style=\"text-align: right;\">10</td><td>adamw</td><td>best</td><td style=\"text-align: right;\">     1</td><td style=\"text-align: right;\">         43.9974</td><td style=\"text-align: right;\">      0.270217</td></tr>\n",
       "<tr><td>cf43583f    </td><td>TERMINATED</td><td>127.0.0.1:6540 </td><td style=\"text-align: right;\">             256</td><td>(&#x27;timm_image&#x27;, _5cc0</td><td>efficientnet_b2</td><td>(2.196517412935_da80</td><td style=\"text-align: right;\">2.69558</td><td>sum</td><td style=\"text-align: right;\">1.4393e-05 </td><td>focal_loss</td><td style=\"text-align: right;\">16</td><td>adamw</td><td>best</td><td style=\"text-align: right;\">     1</td><td style=\"text-align: right;\">         43.1615</td><td style=\"text-align: right;\">      0.170453</td></tr>\n",
       "<tr><td>a424de33    </td><td>TERMINATED</td><td>127.0.0.1:35400</td><td style=\"text-align: right;\">             128</td><td>(&#x27;timm_image&#x27;, _4340</td><td>efficientnet_b2</td><td>(2.196517412935_dba0</td><td style=\"text-align: right;\">2.49282</td><td>sum</td><td style=\"text-align: right;\">0.000128404</td><td>focal_loss</td><td style=\"text-align: right;\"> 7</td><td>adamw</td><td>best</td><td style=\"text-align: right;\">     1</td><td style=\"text-align: right;\">         43.7493</td><td style=\"text-align: right;\">      0.22342 </td></tr>\n",
       "<tr><td>b6105094    </td><td>TERMINATED</td><td>127.0.0.1:13200</td><td style=\"text-align: right;\">              16</td><td>(&#x27;timm_image&#x27;, _ddc0</td><td>efficientnet_b2</td><td>(2.196517412935_dea0</td><td style=\"text-align: right;\">2.60701</td><td>sum</td><td style=\"text-align: right;\">0.000942346</td><td>focal_loss</td><td style=\"text-align: right;\"> 8</td><td>adamw</td><td>best</td><td style=\"text-align: right;\">     4</td><td style=\"text-align: right;\">         80.5196</td><td style=\"text-align: right;\">      0.668095</td></tr>\n",
       "<tr><td>05e58eb4    </td><td>TERMINATED</td><td>127.0.0.1:13228</td><td style=\"text-align: right;\">              16</td><td>(&#x27;timm_image&#x27;, _3200</td><td>efficientnet_b2</td><td>(2.196517412935_dd20</td><td style=\"text-align: right;\">2.2552 </td><td>sum</td><td style=\"text-align: right;\">0.000198215</td><td>focal_loss</td><td style=\"text-align: right;\">13</td><td>adamw</td><td>best</td><td style=\"text-align: right;\">    26</td><td style=\"text-align: right;\">        360.971 </td><td style=\"text-align: right;\">      0.99548 </td></tr>\n",
       "<tr><td>2f956e35    </td><td>TERMINATED</td><td>127.0.0.1:30848</td><td style=\"text-align: right;\">              16</td><td>(&#x27;timm_image&#x27;, _e740</td><td>efficientnet_b2</td><td>(2.196517412935_9840</td><td style=\"text-align: right;\">2.25436</td><td>sum</td><td style=\"text-align: right;\">0.000154534</td><td>focal_loss</td><td style=\"text-align: right;\"> 8</td><td>adamw</td><td>best</td><td style=\"text-align: right;\">    16</td><td style=\"text-align: right;\">        236.02  </td><td style=\"text-align: right;\">      0.96732 </td></tr>\n",
       "<tr><td>d78a2f8e    </td><td>TERMINATED</td><td>127.0.0.1:31948</td><td style=\"text-align: right;\">              64</td><td>(&#x27;timm_image&#x27;, _39c0</td><td>efficientnet_b2</td><td>(2.196517412935_9660</td><td style=\"text-align: right;\">2.46747</td><td>sum</td><td style=\"text-align: right;\">0.000206233</td><td>focal_loss</td><td style=\"text-align: right;\">14</td><td>adamw</td><td>best</td><td style=\"text-align: right;\">     1</td><td style=\"text-align: right;\">         43.8404</td><td style=\"text-align: right;\">      0.259786</td></tr>\n",
       "<tr><td>c2a3d897    </td><td>TERMINATED</td><td>127.0.0.1:31400</td><td style=\"text-align: right;\">              16</td><td>(&#x27;timm_image&#x27;, _2e40</td><td>efficientnet_b2</td><td>(2.196517412935_9720</td><td style=\"text-align: right;\">2.20071</td><td>sum</td><td style=\"text-align: right;\">1.99329e-05</td><td>focal_loss</td><td style=\"text-align: right;\">18</td><td>adamw</td><td>best</td><td style=\"text-align: right;\">     1</td><td style=\"text-align: right;\">         43.7933</td><td style=\"text-align: right;\">      0.189479</td></tr>\n",
       "<tr><td>191f2280    </td><td>TERMINATED</td><td>127.0.0.1:42460</td><td style=\"text-align: right;\">               8</td><td>(&#x27;timm_image&#x27;, _be40</td><td>efficientnet_b2</td><td>(2.196517412935_99c0</td><td style=\"text-align: right;\">2.50276</td><td>sum</td><td style=\"text-align: right;\">0.000495807</td><td>focal_loss</td><td style=\"text-align: right;\">13</td><td>adamw</td><td>best</td><td style=\"text-align: right;\">    26</td><td style=\"text-align: right;\">        377.376 </td><td style=\"text-align: right;\">      0.98985 </td></tr>\n",
       "<tr><td>f2092251    </td><td>TERMINATED</td><td>127.0.0.1:11648</td><td style=\"text-align: right;\">               8</td><td>(&#x27;timm_image&#x27;, _8080</td><td>efficientnet_b2</td><td>(2.196517412935_a320</td><td style=\"text-align: right;\">2.9757 </td><td>sum</td><td style=\"text-align: right;\">2.99496e-05</td><td>focal_loss</td><td style=\"text-align: right;\">12</td><td>adamw</td><td>best</td><td style=\"text-align: right;\">     1</td><td style=\"text-align: right;\">         44.9205</td><td style=\"text-align: right;\">      0.2377  </td></tr>\n",
       "<tr><td>27e6d9d5    </td><td>TERMINATED</td><td>127.0.0.1:20316</td><td style=\"text-align: right;\">             256</td><td>(&#x27;timm_image&#x27;, _9e80</td><td>efficientnet_b2</td><td>(2.196517412935_be20</td><td style=\"text-align: right;\">2.37594</td><td>sum</td><td style=\"text-align: right;\">0.000861089</td><td>focal_loss</td><td style=\"text-align: right;\"> 9</td><td>adamw</td><td>best</td><td style=\"text-align: right;\">     1</td><td style=\"text-align: right;\">         43.4418</td><td style=\"text-align: right;\">      0.170453</td></tr>\n",
       "<tr><td>99c6a5e3    </td><td>TERMINATED</td><td>127.0.0.1:16644</td><td style=\"text-align: right;\">               8</td><td>(&#x27;timm_image&#x27;, _4c00</td><td>efficientnet_b2</td><td>(2.196517412935_8ca0</td><td style=\"text-align: right;\">2.77521</td><td>sum</td><td style=\"text-align: right;\">0.000584509</td><td>focal_loss</td><td style=\"text-align: right;\"> 7</td><td>adamw</td><td>best</td><td style=\"text-align: right;\">    14</td><td style=\"text-align: right;\">        215.76  </td><td style=\"text-align: right;\">      0.991924</td></tr>\n",
       "<tr><td>4c7e3852    </td><td>TERMINATED</td><td>127.0.0.1:27624</td><td style=\"text-align: right;\">             128</td><td>(&#x27;timm_image&#x27;, _6240</td><td>efficientnet_b2</td><td>(2.196517412935_8520</td><td style=\"text-align: right;\">2.71088</td><td>sum</td><td style=\"text-align: right;\">7.93059e-05</td><td>focal_loss</td><td style=\"text-align: right;\">17</td><td>adamw</td><td>best</td><td style=\"text-align: right;\">     1</td><td style=\"text-align: right;\">         43.6627</td><td style=\"text-align: right;\">      0.176223</td></tr>\n",
       "<tr><td>b73f4099    </td><td>TERMINATED</td><td>127.0.0.1:26616</td><td style=\"text-align: right;\">              32</td><td>(&#x27;timm_image&#x27;, _6400</td><td>efficientnet_b2</td><td>(2.196517412935_a500</td><td style=\"text-align: right;\">2.93565</td><td>sum</td><td style=\"text-align: right;\">0.00076946 </td><td>focal_loss</td><td style=\"text-align: right;\">16</td><td>adamw</td><td>best</td><td style=\"text-align: right;\">     4</td><td style=\"text-align: right;\">         80.8505</td><td style=\"text-align: right;\">      0.74487 </td></tr>\n",
       "<tr><td>da8915c4    </td><td>TERMINATED</td><td>127.0.0.1:41548</td><td style=\"text-align: right;\">              32</td><td>(&#x27;timm_image&#x27;, _4900</td><td>efficientnet_b2</td><td>(2.196517412935_91e0</td><td style=\"text-align: right;\">2.61807</td><td>sum</td><td style=\"text-align: right;\">5.45447e-05</td><td>focal_loss</td><td style=\"text-align: right;\"> 6</td><td>adamw</td><td>best</td><td style=\"text-align: right;\">     1</td><td style=\"text-align: right;\">         43.7939</td><td style=\"text-align: right;\">      0.263605</td></tr>\n",
       "<tr><td>6f71060a    </td><td>TERMINATED</td><td>127.0.0.1:40160</td><td style=\"text-align: right;\">               8</td><td>(&#x27;timm_image&#x27;, _5ec0</td><td>efficientnet_b2</td><td>(2.196517412935_b340</td><td style=\"text-align: right;\">2.02739</td><td>sum</td><td style=\"text-align: right;\">0.000378277</td><td>focal_loss</td><td style=\"text-align: right;\">10</td><td>adamw</td><td>best</td><td style=\"text-align: right;\">     4</td><td style=\"text-align: right;\">         83.2271</td><td style=\"text-align: right;\">      0.792564</td></tr>\n",
       "<tr><td>9a24618d    </td><td>TERMINATED</td><td>127.0.0.1:34000</td><td style=\"text-align: right;\">              64</td><td>(&#x27;timm_image&#x27;, _1e80</td><td>efficientnet_b2</td><td>(2.196517412935_bfa0</td><td style=\"text-align: right;\">2.0204 </td><td>sum</td><td style=\"text-align: right;\">0.000348607</td><td>focal_loss</td><td style=\"text-align: right;\"> 5</td><td>adamw</td><td>best</td><td style=\"text-align: right;\">    10</td><td style=\"text-align: right;\">        153.17  </td><td style=\"text-align: right;\">      0.934679</td></tr>\n",
       "<tr><td>f113eba2    </td><td>TERMINATED</td><td>127.0.0.1:30580</td><td style=\"text-align: right;\">               8</td><td>(&#x27;timm_image&#x27;, _0b00</td><td>efficientnet_b2</td><td>(2.196517412935_85e0</td><td style=\"text-align: right;\">2.11576</td><td>sum</td><td style=\"text-align: right;\">0.000260524</td><td>focal_loss</td><td style=\"text-align: right;\">10</td><td>adamw</td><td>best</td><td style=\"text-align: right;\">    20</td><td style=\"text-align: right;\">        292.585 </td><td style=\"text-align: right;\">      0.992222</td></tr>\n",
       "<tr><td>2f5cc77b    </td><td>TERMINATED</td><td>127.0.0.1:41920</td><td style=\"text-align: right;\">               8</td><td>(&#x27;timm_image&#x27;, _ea40</td><td>efficientnet_b2</td><td>(2.196517412935_91e0</td><td style=\"text-align: right;\">2.31331</td><td>sum</td><td style=\"text-align: right;\">0.000559764</td><td>focal_loss</td><td style=\"text-align: right;\">15</td><td>adamw</td><td>best</td><td style=\"text-align: right;\">     4</td><td style=\"text-align: right;\">         83.4647</td><td style=\"text-align: right;\">      0.792996</td></tr>\n",
       "<tr><td>688c9834    </td><td>TERMINATED</td><td>127.0.0.1:7184 </td><td style=\"text-align: right;\">              16</td><td>(&#x27;timm_image&#x27;, _e780</td><td>efficientnet_b2</td><td>(2.196517412935_8640</td><td style=\"text-align: right;\">2.12209</td><td>sum</td><td style=\"text-align: right;\">0.000288093</td><td>focal_loss</td><td style=\"text-align: right;\">11</td><td>adamw</td><td>best</td><td style=\"text-align: right;\">     1</td><td style=\"text-align: right;\">         44.2826</td><td style=\"text-align: right;\">      0.434458</td></tr>\n",
       "</tbody>\n",
       "</table>\n",
       "  </div>\n",
       "</div>\n",
       "<style>\n",
       ".tuneStatus {\n",
       "  color: var(--jp-ui-font-color1);\n",
       "}\n",
       ".tuneStatus .systemInfo {\n",
       "  display: flex;\n",
       "  flex-direction: column;\n",
       "}\n",
       ".tuneStatus td {\n",
       "  white-space: nowrap;\n",
       "}\n",
       ".tuneStatus .trialStatus {\n",
       "  display: flex;\n",
       "  flex-direction: column;\n",
       "}\n",
       ".tuneStatus h3 {\n",
       "  font-weight: bold;\n",
       "}\n",
       ".tuneStatus .hDivider {\n",
       "  border-bottom-width: var(--jp-border-width);\n",
       "  border-bottom-color: var(--jp-border-color0);\n",
       "  border-bottom-style: solid;\n",
       "}\n",
       ".tuneStatus .vDivider {\n",
       "  border-left-width: var(--jp-border-width);\n",
       "  border-left-color: var(--jp-border-color0);\n",
       "  border-left-style: solid;\n",
       "  margin: 0.5em 1em 0.5em 1em;\n",
       "}\n",
       "</style>\n"
      ],
      "text/plain": [
       "<IPython.core.display.HTML object>"
      ]
     },
     "metadata": {},
     "output_type": "display_data"
    },
    {
     "data": {
      "text/html": [
       "<div class=\"trialProgress\">\n",
       "  <h3>Trial Progress</h3>\n",
       "  <table>\n",
       "<thead>\n",
       "<tr><th>Trial name  </th><th>should_checkpoint  </th><th style=\"text-align: right;\">  val_f1_macro</th></tr>\n",
       "</thead>\n",
       "<tbody>\n",
       "<tr><td>05e58eb4    </td><td>True               </td><td style=\"text-align: right;\">      0.99548 </td></tr>\n",
       "<tr><td>0bafbc14    </td><td>True               </td><td style=\"text-align: right;\">      0.734989</td></tr>\n",
       "<tr><td>191f2280    </td><td>True               </td><td style=\"text-align: right;\">      0.98985 </td></tr>\n",
       "<tr><td>27e6d9d5    </td><td>True               </td><td style=\"text-align: right;\">      0.170453</td></tr>\n",
       "<tr><td>2f5cc77b    </td><td>True               </td><td style=\"text-align: right;\">      0.792996</td></tr>\n",
       "<tr><td>2f956e35    </td><td>True               </td><td style=\"text-align: right;\">      0.96732 </td></tr>\n",
       "<tr><td>38fb6fe0    </td><td>True               </td><td style=\"text-align: right;\">      0.989048</td></tr>\n",
       "<tr><td>3bd98b70    </td><td>True               </td><td style=\"text-align: right;\">      0.929322</td></tr>\n",
       "<tr><td>4c7e3852    </td><td>True               </td><td style=\"text-align: right;\">      0.176223</td></tr>\n",
       "<tr><td>688c9834    </td><td>True               </td><td style=\"text-align: right;\">      0.434458</td></tr>\n",
       "<tr><td>6f71060a    </td><td>True               </td><td style=\"text-align: right;\">      0.792564</td></tr>\n",
       "<tr><td>99c6a5e3    </td><td>True               </td><td style=\"text-align: right;\">      0.991924</td></tr>\n",
       "<tr><td>9a24618d    </td><td>True               </td><td style=\"text-align: right;\">      0.934679</td></tr>\n",
       "<tr><td>a29258c6    </td><td>True               </td><td style=\"text-align: right;\">      0.312694</td></tr>\n",
       "<tr><td>a424de33    </td><td>True               </td><td style=\"text-align: right;\">      0.22342 </td></tr>\n",
       "<tr><td>af66db80    </td><td>True               </td><td style=\"text-align: right;\">      0.214851</td></tr>\n",
       "<tr><td>b6105094    </td><td>True               </td><td style=\"text-align: right;\">      0.668095</td></tr>\n",
       "<tr><td>b73f4099    </td><td>True               </td><td style=\"text-align: right;\">      0.74487 </td></tr>\n",
       "<tr><td>c2a3d897    </td><td>True               </td><td style=\"text-align: right;\">      0.189479</td></tr>\n",
       "<tr><td>cf43583f    </td><td>True               </td><td style=\"text-align: right;\">      0.170453</td></tr>\n",
       "<tr><td>d78a2f8e    </td><td>True               </td><td style=\"text-align: right;\">      0.259786</td></tr>\n",
       "<tr><td>da8915c4    </td><td>True               </td><td style=\"text-align: right;\">      0.263605</td></tr>\n",
       "<tr><td>f113eba2    </td><td>True               </td><td style=\"text-align: right;\">      0.992222</td></tr>\n",
       "<tr><td>f2092251    </td><td>True               </td><td style=\"text-align: right;\">      0.2377  </td></tr>\n",
       "<tr><td>fa22b188    </td><td>True               </td><td style=\"text-align: right;\">      0.270217</td></tr>\n",
       "</tbody>\n",
       "</table>\n",
       "</div>\n",
       "<style>\n",
       ".trialProgress {\n",
       "  display: flex;\n",
       "  flex-direction: column;\n",
       "  color: var(--jp-ui-font-color1);\n",
       "}\n",
       ".trialProgress h3 {\n",
       "  font-weight: bold;\n",
       "}\n",
       ".trialProgress td {\n",
       "  white-space: nowrap;\n",
       "}\n",
       "</style>\n"
      ],
      "text/plain": [
       "<IPython.core.display.HTML object>"
      ]
     },
     "metadata": {},
     "output_type": "display_data"
    },
    {
     "name": "stderr",
     "output_type": "stream",
     "text": [
      "Removing non-optimal trials and only keep the best one.\n",
      "e:\\Programs\\miniforge3\\envs\\autogluon_stable_112\\Lib\\site-packages\\autogluon\\multimodal\\utils\\checkpoint.py:64: FutureWarning: You are using `torch.load` with `weights_only=False` (the current default value), which uses the default pickle module implicitly. It is possible to construct malicious pickle data which will execute arbitrary code during unpickling (See https://github.com/pytorch/pytorch/blob/main/SECURITY.md#untrusted-models for more details). In a future release, the default value for `weights_only` will be flipped to `True`. This limits the functions that could be executed during unpickling. Arbitrary objects will no longer be allowed to be loaded via this mode unless they are explicitly allowlisted by the user via `torch.serialization.add_safe_globals`. We recommend you start setting `weights_only=True` for any use case where you don't have full control of the loaded file. Please open an issue on GitHub for any issues related to this experimental feature.\n",
      "  avg_state_dict = torch.load(checkpoint_paths[0], map_location=torch.device(\"cpu\"))[\"state_dict\"]\n",
      "AutoMM has created your model. 🎉🎉🎉\n",
      "\n",
      "To load the model, use the code below:\n",
      "    ```python\n",
      "    from autogluon.multimodal import MultiModalPredictor\n",
      "    predictor = MultiModalPredictor.load(\"e:\\Current_Workdir\\palm-fruit-classification\\autogluon_ver\\model\\master\\train_EfficientNetB2_25_trials_2024-12-29_01-53-46\")\n",
      "    ```\n",
      "\n",
      "If you are not satisfied with the model, try to increase the training time, \n",
      "adjust the hyperparameters (https://auto.gluon.ai/stable/tutorials/multimodal/advanced_topics/customization.html),\n",
      "or post issues on GitHub (https://github.com/autogluon/autogluon/issues).\n",
      "\n",
      "\n"
     ]
    },
    {
     "data": {
      "text/plain": [
       "<autogluon.multimodal.predictor.MultiModalPredictor at 0x20210a3bf10>"
      ]
     },
     "execution_count": 11,
     "metadata": {},
     "output_type": "execute_result"
    }
   ],
   "source": [
    "predictor_efficientnet_b2.fit(\n",
    "        train_data=train_df,\n",
    "        hyperparameters=hyperparameters_efficientnet_b2,\n",
    "        hyperparameter_tune_kwargs=hyperparameter_tune_kwargs,\n",
    "        # time_limit = 3600\n",
    ")"
   ]
  },
  {
   "cell_type": "markdown",
   "metadata": {},
   "source": [
    "## Evaluate on Test Dataset"
   ]
  },
  {
   "cell_type": "code",
   "execution_count": 12,
   "metadata": {},
   "outputs": [
    {
     "name": "stderr",
     "output_type": "stream",
     "text": [
      "e:\\Programs\\miniforge3\\envs\\autogluon_stable_112\\Lib\\site-packages\\lightning\\pytorch\\plugins\\precision\\amp.py:52: `torch.cuda.amp.GradScaler(args...)` is deprecated. Please use `torch.amp.GradScaler('cuda', args...)` instead.\n"
     ]
    },
    {
     "name": "stdout",
     "output_type": "stream",
     "text": [
      "Predicting DataLoader 0: 100%|██████████| 12/12 [00:00<00:00, 12.66it/s]\n"
     ]
    },
    {
     "data": {
      "text/plain": [
       "{'f1_macro': 0.8599611423377521,\n",
       " 'f1_micro': 0.8680738786279684,\n",
       " 'accuracy': 0.8680738786279684,\n",
       " 'recall_macro': 0.8451513127237765,\n",
       " 'precision_macro': 0.8776017568694371}"
      ]
     },
     "execution_count": 12,
     "metadata": {},
     "output_type": "execute_result"
    }
   ],
   "source": [
    "scores_efficientnet_b2 = predictor_efficientnet_b2.evaluate(test_df, metrics=[\"f1_macro\", \"f1_micro\", \"accuracy\", \"recall_macro\", \"precision_macro\"])\n",
    "scores_efficientnet_b2"
   ]
  },
  {
   "cell_type": "code",
   "execution_count": 13,
   "metadata": {},
   "outputs": [
    {
     "name": "stderr",
     "output_type": "stream",
     "text": [
      "e:\\Programs\\miniforge3\\envs\\autogluon_stable_112\\Lib\\site-packages\\lightning\\pytorch\\plugins\\precision\\amp.py:52: `torch.cuda.amp.GradScaler(args...)` is deprecated. Please use `torch.amp.GradScaler('cuda', args...)` instead.\n"
     ]
    },
    {
     "name": "stdout",
     "output_type": "stream",
     "text": [
      "Predicting DataLoader 0: 100%|██████████| 12/12 [00:00<00:00, 15.53it/s]\n"
     ]
    }
   ],
   "source": [
    "preds_efficientnet_b2 = predictor_efficientnet_b2.predict(test_df)"
   ]
  },
  {
   "cell_type": "code",
   "execution_count": 14,
   "metadata": {},
   "outputs": [],
   "source": [
    "true_labels = test_df['label_text']"
   ]
  },
  {
   "cell_type": "markdown",
   "metadata": {},
   "source": [
    "# Classification Report"
   ]
  },
  {
   "cell_type": "code",
   "execution_count": 15,
   "metadata": {},
   "outputs": [],
   "source": [
    "cr = classification_report(true_labels, preds_efficientnet_b2)"
   ]
  },
  {
   "cell_type": "code",
   "execution_count": 16,
   "metadata": {},
   "outputs": [
    {
     "name": "stdout",
     "output_type": "stream",
     "text": [
      "              precision    recall  f1-score   support\n",
      "\n",
      " empty_bunch       0.95      0.83      0.88        23\n",
      "    overripe       0.89      0.87      0.88        54\n",
      "        ripe       0.88      0.86      0.87       154\n",
      "      rotten       0.71      0.62      0.67         8\n",
      "   underripe       0.83      0.89      0.86       130\n",
      "      unripe       1.00      1.00      1.00        10\n",
      "\n",
      "    accuracy                           0.87       379\n",
      "   macro avg       0.88      0.85      0.86       379\n",
      "weighted avg       0.87      0.87      0.87       379\n",
      "\n"
     ]
    }
   ],
   "source": [
    "print(cr)"
   ]
  },
  {
   "cell_type": "code",
   "execution_count": 17,
   "metadata": {},
   "outputs": [],
   "source": [
    "cm = confusion_matrix(true_labels, preds_efficientnet_b2)"
   ]
  },
  {
   "cell_type": "code",
   "execution_count": 18,
   "metadata": {},
   "outputs": [
    {
     "data": {
      "text/plain": [
       "array([[ 19,   2,   0,   2,   0,   0],\n",
       "       [  0,  47,   4,   0,   3,   0],\n",
       "       [  1,   2, 132,   0,  19,   0],\n",
       "       [  0,   1,   1,   5,   1,   0],\n",
       "       [  0,   1,  13,   0, 116,   0],\n",
       "       [  0,   0,   0,   0,   0,  10]], dtype=int64)"
      ]
     },
     "execution_count": 18,
     "metadata": {},
     "output_type": "execute_result"
    }
   ],
   "source": [
    "cm"
   ]
  },
  {
   "cell_type": "markdown",
   "metadata": {},
   "source": [
    "Accuracy per Class"
   ]
  },
  {
   "cell_type": "code",
   "execution_count": 19,
   "metadata": {},
   "outputs": [
    {
     "data": {
      "text/plain": [
       "array([0.82608696, 0.87037037, 0.85714286, 0.625     , 0.89230769,\n",
       "       1.        ])"
      ]
     },
     "execution_count": 19,
     "metadata": {},
     "output_type": "execute_result"
    }
   ],
   "source": [
    "cm.diagonal()/cm.sum(axis=1)"
   ]
  },
  {
   "cell_type": "code",
   "execution_count": 20,
   "metadata": {},
   "outputs": [
    {
     "data": {
      "image/png": "[encoded data removed]",
      "text/plain": [
       "<Figure size 640x480 with 2 Axes>"
      ]
     },
     "metadata": {},
     "output_type": "display_data"
    }
   ],
   "source": [
    "disp = ConfusionMatrixDisplay(confusion_matrix=cm, display_labels=predictor_efficientnet_b2.class_labels)\n",
    "disp.plot(cmap=plt.cm.Blues)\n",
    "plt.show()"
   ]
  },
  {
   "cell_type": "markdown",
   "metadata": {},
   "source": [
    "## Save Raw TIMM Format"
   ]
  },
  {
   "cell_type": "code",
   "execution_count": 21,
   "metadata": {},
   "outputs": [
    {
     "name": "stderr",
     "output_type": "stream",
     "text": [
      "Model timm_image weights saved to ../../model/master/train_EfficientNetB2_25_trials_2024-12-29_01-53-46/timm\\timm_image/pytorch_model.bin.\n",
      "Timm config saved to ../../model/master/train_EfficientNetB2_25_trials_2024-12-29_01-53-46/timm\\timm_image/config.json.\n"
     ]
    },
    {
     "data": {
      "text/plain": [
       "'../../model/master/train_EfficientNetB2_25_trials_2024-12-29_01-53-46/timm'"
      ]
     },
     "execution_count": 21,
     "metadata": {},
     "output_type": "execute_result"
    }
   ],
   "source": [
    "predictor_efficientnet_b2.dump_model(model_path_efficientnet_b2 + \"/timm\")"
   ]
  },
  {
   "cell_type": "markdown",
   "metadata": {},
   "source": [
    "## Finetuning ResNet 18"
   ]
  },
  {
   "cell_type": "markdown",
   "metadata": {},
   "source": [
    "Calculate class proportions for Focal Loss $\\alpha$  \n",
    "see [this](https://amaarora.github.io/posts/2020-06-29-FocalLoss.html) for details."
   ]
  },
  {
   "cell_type": "code",
   "execution_count": 22,
   "metadata": {},
   "outputs": [
    {
     "data": {
      "text/plain": [
       "[2.1965174129353233,\n",
       " 1.1964769647696476,\n",
       " 0.44327309236947793,\n",
       " 5.660256410256411,\n",
       " 0.5145687645687645,\n",
       " 3.003401360544218]"
      ]
     },
     "execution_count": 22,
     "metadata": {},
     "output_type": "execute_result"
    }
   ],
   "source": [
    "class_weights = compute_class_weight(class_weight=\"balanced\", classes=np.unique(train_df[\"label_text\"]), y=train_df[\"label_text\"])\n",
    "class_weights_list = class_weights.tolist()\n",
    "class_weights_list"
   ]
  },
  {
   "cell_type": "markdown",
   "metadata": {},
   "source": [
    "Set Training Folder Name"
   ]
  },
  {
   "cell_type": "code",
   "execution_count": 23,
   "metadata": {},
   "outputs": [],
   "source": [
    "now = datetime.datetime.now()\n",
    "timestamp_str = now.strftime(\"%Y-%m-%d_%H-%M-%S\")\n",
    "model_path_resnet18 = \"../../model/master/\" + f\"train_resnet18_25_trials_{timestamp_str}\""
   ]
  },
  {
   "cell_type": "code",
   "execution_count": 24,
   "metadata": {},
   "outputs": [
    {
     "data": {
      "text/plain": [
       "'../../model/master/train_resnet18_25_trials_2024-12-29_02-51-33'"
      ]
     },
     "execution_count": 24,
     "metadata": {},
     "output_type": "execute_result"
    }
   ],
   "source": [
    "model_path_resnet18"
   ]
  },
  {
   "cell_type": "code",
   "execution_count": 25,
   "metadata": {},
   "outputs": [],
   "source": [
    "os.makedirs(model_path_resnet18, exist_ok=True)"
   ]
  },
  {
   "cell_type": "markdown",
   "metadata": {},
   "source": [
    "Defining Hyperparameters"
   ]
  },
  {
   "cell_type": "code",
   "execution_count": 26,
   "metadata": {},
   "outputs": [],
   "source": [
    "hyperparameters_resnet18 = {\n",
    "    \"optimization.learning_rate\": tune.loguniform(0.00001, 0.001),\n",
    "    \"optimization.max_epochs\":tune.randint(5,20),\n",
    "    \"env.batch_size\": tune.choice([8, 16, 32, 64, 128, 256]),\n",
    "    #\"env.batch_size\": tune.qlograndint(8,128,2),\n",
    "    \"optimization.loss_function\": \"focal_loss\",\n",
    "    \"optimization.focal_loss.alpha\": class_weights_list,\n",
    "    \"optimization.focal_loss.gamma\": tune.uniform(2, 3),\n",
    "    \"optimization.focal_loss.reduction\": \"sum\",\n",
    "    \"model.timm_image.checkpoint_name\": \"resnet18\",\n",
    "    \"optimization.optim_type\": \"adamw\",\n",
    "    \"optimization.top_k_average_method\": \"best\"\n",
    "}"
   ]
  },
  {
   "cell_type": "code",
   "execution_count": 27,
   "metadata": {},
   "outputs": [],
   "source": [
    "predictor_resnet18 = MultiModalPredictor(label=\"label_text\", path=model_path_resnet18, problem_type='multiclass', eval_metric=\"f1_macro\")"
   ]
  },
  {
   "cell_type": "code",
   "execution_count": 28,
   "metadata": {},
   "outputs": [],
   "source": [
    "hyperparameter_tune_kwargs = {\n",
    "    \"searcher\": \"bayes\",\n",
    "    \"scheduler\": \"ASHA\",\n",
    "    \"num_trials\": NUM_TRIALS\n",
    "}"
   ]
  },
  {
   "cell_type": "code",
   "execution_count": 29,
   "metadata": {},
   "outputs": [
    {
     "name": "stderr",
     "output_type": "stream",
     "text": [
      "=================== System Info ===================\n",
      "AutoGluon Version:  1.1.1\n",
      "Python Version:     3.11.10\n",
      "Operating System:   Windows\n",
      "Platform Machine:   AMD64\n",
      "Platform Version:   10.0.19045\n",
      "CPU Count:          32\n",
      "Pytorch Version:    2.4.1\n",
      "CUDA Version:       12.4\n",
      "Memory Avail:       111.12 GB / 127.91 GB (86.9%)\n",
      "Disk Space Avail:   1397.05 GB / 1863.00 GB (75.0%)\n",
      "===================================================\n"
     ]
    },
    {
     "data": {
      "text/html": [
       "<div class=\"tuneStatus\">\n",
       "  <div style=\"display: flex;flex-direction: row\">\n",
       "    <div style=\"display: flex;flex-direction: column;\">\n",
       "      <h3>Tune Status</h3>\n",
       "      <table>\n",
       "<tbody>\n",
       "<tr><td>Current time:</td><td>2024-12-29 03:18:07</td></tr>\n",
       "<tr><td>Running for: </td><td>00:26:33.54        </td></tr>\n",
       "<tr><td>Memory:      </td><td>22.3/127.9 GiB     </td></tr>\n",
       "</tbody>\n",
       "</table>\n",
       "    </div>\n",
       "    <div class=\"vDivider\"></div>\n",
       "    <div class=\"systemInfo\">\n",
       "      <h3>System Info</h3>\n",
       "      Using AsyncHyperBand: num_stopped=18<br>Bracket: Iter 4096.000: None | Iter 1024.000: None | Iter 256.000: None | Iter 64.000: None | Iter 16.000: 0.9601440280675888 | Iter 4.000: 0.7962802648544312 | Iter 1.000: 0.24888035655021667<br>Logical resource usage: 32.0/32 CPUs, 1.0/1 GPUs (0.0/1.0 accelerator_type:G)\n",
       "    </div>\n",
       "    <div class=\"vDivider\"></div>\n",
       "<div class=\"messages\">\n",
       "  <h3>Messages</h3>\n",
       "  \n",
       "  \n",
       "  Number of errored trials: 1<br><table>\n",
       "<thead>\n",
       "<tr><th>Trial name  </th><th style=\"text-align: right;\">  # failures</th><th>error file                                                                                                                                                                                  </th></tr>\n",
       "</thead>\n",
       "<tbody>\n",
       "<tr><td>ad705b62    </td><td style=\"text-align: right;\">           1</td><td>C:/Users/comp4/AppData/Local/Temp/ray/session_2024-12-29_01-53-47_503129_7224/artifacts/2024-12-29_02-51-33/train_resnet18_25_trials_2024-12-29_02-51-33/driver_artifacts/ad705b62/error.txt</td></tr>\n",
       "</tbody>\n",
       "</table>\n",
       "</div>\n",
       "<style>\n",
       ".messages {\n",
       "  color: var(--jp-ui-font-color1);\n",
       "  display: flex;\n",
       "  flex-direction: column;\n",
       "  padding-left: 1em;\n",
       "  overflow-y: auto;\n",
       "}\n",
       ".messages h3 {\n",
       "  font-weight: bold;\n",
       "}\n",
       ".vDivider {\n",
       "  border-left-width: var(--jp-border-width);\n",
       "  border-left-color: var(--jp-border-color0);\n",
       "  border-left-style: solid;\n",
       "  margin: 0.5em 1em 0.5em 1em;\n",
       "}\n",
       "</style>\n",
       "\n",
       "  </div>\n",
       "  <div class=\"hDivider\"></div>\n",
       "  <div class=\"trialStatus\">\n",
       "    <h3>Trial Status</h3>\n",
       "    <table>\n",
       "<thead>\n",
       "<tr><th>Trial name  </th><th>status    </th><th>loc            </th><th style=\"text-align: right;\">  env.batch_size</th><th>model.names         </th><th>model.timm_image.che\n",
       "ckpoint_name         </th><th>optimization.focal_l\n",
       "oss.alpha                     </th><th style=\"text-align: right;\">        optimization.focal_l\n",
       "oss.gamma</th><th>optimization.focal_l\n",
       "oss.reduction    </th><th style=\"text-align: right;\">            optimization.learnin\n",
       "g_rate</th><th>optimization.loss_fu\n",
       "nction           </th><th style=\"text-align: right;\">   optimization.max_epo\n",
       "chs</th><th>optimization.optim_t\n",
       "ype      </th><th>optimization.top_k_a\n",
       "verage_method     </th><th style=\"text-align: right;\">  iter</th><th style=\"text-align: right;\">  total time (s)</th><th style=\"text-align: right;\">  val_f1_macro</th></tr>\n",
       "</thead>\n",
       "<tbody>\n",
       "<tr><td>ab35fae9    </td><td>TERMINATED</td><td>127.0.0.1:3400 </td><td style=\"text-align: right;\">             256</td><td>(&#x27;timm_image&#x27;, _5540</td><td>resnet18</td><td>(2.196517412935_abc0</td><td style=\"text-align: right;\">2.45143</td><td>sum</td><td style=\"text-align: right;\">0.000269354</td><td>focal_loss</td><td style=\"text-align: right;\"> 7</td><td>adamw</td><td>best</td><td style=\"text-align: right;\">    14</td><td style=\"text-align: right;\">         82.2206</td><td style=\"text-align: right;\">      0.47169 </td></tr>\n",
       "<tr><td>b273c23c    </td><td>TERMINATED</td><td>127.0.0.1:32328</td><td style=\"text-align: right;\">             256</td><td>(&#x27;timm_image&#x27;, _4e80</td><td>resnet18</td><td>(2.196517412935_d720</td><td style=\"text-align: right;\">2.3608 </td><td>sum</td><td style=\"text-align: right;\">0.000332164</td><td>focal_loss</td><td style=\"text-align: right;\">12</td><td>adamw</td><td>best</td><td style=\"text-align: right;\">     1</td><td style=\"text-align: right;\">         34.4286</td><td style=\"text-align: right;\">      0.122825</td></tr>\n",
       "<tr><td>78d3e913    </td><td>TERMINATED</td><td>127.0.0.1:19976</td><td style=\"text-align: right;\">              32</td><td>(&#x27;timm_image&#x27;, _5940</td><td>resnet18</td><td>(2.196517412935_61a0</td><td style=\"text-align: right;\">2.39745</td><td>sum</td><td style=\"text-align: right;\">1.35849e-05</td><td>focal_loss</td><td style=\"text-align: right;\">11</td><td>adamw</td><td>best</td><td style=\"text-align: right;\">     1</td><td style=\"text-align: right;\">         34.7445</td><td style=\"text-align: right;\">      0.110731</td></tr>\n",
       "<tr><td>c2382f43    </td><td>TERMINATED</td><td>127.0.0.1:12888</td><td style=\"text-align: right;\">              16</td><td>(&#x27;timm_image&#x27;, _3200</td><td>resnet18</td><td>(2.196517412935_56c0</td><td style=\"text-align: right;\">2.21594</td><td>sum</td><td style=\"text-align: right;\">0.000449294</td><td>focal_loss</td><td style=\"text-align: right;\"> 8</td><td>adamw</td><td>best</td><td style=\"text-align: right;\">    16</td><td style=\"text-align: right;\">         95.7701</td><td style=\"text-align: right;\">      0.931442</td></tr>\n",
       "<tr><td>0d22492d    </td><td>TERMINATED</td><td>127.0.0.1:39220</td><td style=\"text-align: right;\">              32</td><td>(&#x27;timm_image&#x27;, _be80</td><td>resnet18</td><td>(2.196517412935_5f60</td><td style=\"text-align: right;\">2.01822</td><td>sum</td><td style=\"text-align: right;\">0.000365383</td><td>focal_loss</td><td style=\"text-align: right;\">18</td><td>adamw</td><td>best</td><td style=\"text-align: right;\">     1</td><td style=\"text-align: right;\">         35.0997</td><td style=\"text-align: right;\">      0.161934</td></tr>\n",
       "<tr><td>e96e0613    </td><td>TERMINATED</td><td>127.0.0.1:37828</td><td style=\"text-align: right;\">             128</td><td>(&#x27;timm_image&#x27;, _7000</td><td>resnet18</td><td>(2.196517412935_52a0</td><td style=\"text-align: right;\">2.59667</td><td>sum</td><td style=\"text-align: right;\">0.000148666</td><td>focal_loss</td><td style=\"text-align: right;\">14</td><td>adamw</td><td>best</td><td style=\"text-align: right;\">     1</td><td style=\"text-align: right;\">         34.6806</td><td style=\"text-align: right;\">      0.117965</td></tr>\n",
       "<tr><td>1221b546    </td><td>TERMINATED</td><td>127.0.0.1:30924</td><td style=\"text-align: right;\">               8</td><td>(&#x27;timm_image&#x27;, _de40</td><td>resnet18</td><td>(2.196517412935_5de0</td><td style=\"text-align: right;\">2.23677</td><td>sum</td><td style=\"text-align: right;\">0.000307139</td><td>focal_loss</td><td style=\"text-align: right;\"> 9</td><td>adamw</td><td>best</td><td style=\"text-align: right;\">    18</td><td style=\"text-align: right;\">        111.433 </td><td style=\"text-align: right;\">      0.937967</td></tr>\n",
       "<tr><td>53ccb6eb    </td><td>TERMINATED</td><td>127.0.0.1:38660</td><td style=\"text-align: right;\">               8</td><td>(&#x27;timm_image&#x27;, _9d40</td><td>resnet18</td><td>(2.196517412935_54e0</td><td style=\"text-align: right;\">2.52594</td><td>sum</td><td style=\"text-align: right;\">2.71579e-05</td><td>focal_loss</td><td style=\"text-align: right;\">17</td><td>adamw</td><td>best</td><td style=\"text-align: right;\">     1</td><td style=\"text-align: right;\">         35.5764</td><td style=\"text-align: right;\">      0.130038</td></tr>\n",
       "<tr><td>86be4c53    </td><td>TERMINATED</td><td>127.0.0.1:24960</td><td style=\"text-align: right;\">             256</td><td>(&#x27;timm_image&#x27;, _ab40</td><td>resnet18</td><td>(2.196517412935_5c60</td><td style=\"text-align: right;\">2.77151</td><td>sum</td><td style=\"text-align: right;\">2.55501e-05</td><td>focal_loss</td><td style=\"text-align: right;\">15</td><td>adamw</td><td>best</td><td style=\"text-align: right;\">     1</td><td style=\"text-align: right;\">         34.6534</td><td style=\"text-align: right;\">      0.101952</td></tr>\n",
       "<tr><td>15d988fe    </td><td>TERMINATED</td><td>127.0.0.1:41312</td><td style=\"text-align: right;\">               8</td><td>(&#x27;timm_image&#x27;, _a980</td><td>resnet18</td><td>(2.196517412935_1600</td><td style=\"text-align: right;\">2.65654</td><td>sum</td><td style=\"text-align: right;\">1.82922e-05</td><td>focal_loss</td><td style=\"text-align: right;\">16</td><td>adamw</td><td>best</td><td style=\"text-align: right;\">     1</td><td style=\"text-align: right;\">         35.3742</td><td style=\"text-align: right;\">      0.122284</td></tr>\n",
       "<tr><td>05b49d79    </td><td>TERMINATED</td><td>127.0.0.1:2288 </td><td style=\"text-align: right;\">             256</td><td>(&#x27;timm_image&#x27;, _d500</td><td>resnet18</td><td>(2.196517412935_2080</td><td style=\"text-align: right;\">2.44972</td><td>sum</td><td style=\"text-align: right;\">0.000103079</td><td>focal_loss</td><td style=\"text-align: right;\">15</td><td>adamw</td><td>best</td><td style=\"text-align: right;\">     1</td><td style=\"text-align: right;\">         34.6729</td><td style=\"text-align: right;\">      0.107429</td></tr>\n",
       "<tr><td>43fc9df6    </td><td>TERMINATED</td><td>127.0.0.1:28204</td><td style=\"text-align: right;\">               8</td><td>(&#x27;timm_image&#x27;, _d580</td><td>resnet18</td><td>(2.196517412935_16c0</td><td style=\"text-align: right;\">2.94126</td><td>sum</td><td style=\"text-align: right;\">0.000463175</td><td>focal_loss</td><td style=\"text-align: right;\"> 9</td><td>adamw</td><td>best</td><td style=\"text-align: right;\">    18</td><td style=\"text-align: right;\">        111.063 </td><td style=\"text-align: right;\">      0.952434</td></tr>\n",
       "<tr><td>38fa28c9    </td><td>TERMINATED</td><td>127.0.0.1:21356</td><td style=\"text-align: right;\">               8</td><td>(&#x27;timm_image&#x27;, _9900</td><td>resnet18</td><td>(2.196517412935_3160</td><td style=\"text-align: right;\">2.80043</td><td>sum</td><td style=\"text-align: right;\">0.000216677</td><td>focal_loss</td><td style=\"text-align: right;\">11</td><td>adamw</td><td>best</td><td style=\"text-align: right;\">     1</td><td style=\"text-align: right;\">         35.4091</td><td style=\"text-align: right;\">      0.219123</td></tr>\n",
       "<tr><td>1da2a585    </td><td>TERMINATED</td><td>127.0.0.1:30124</td><td style=\"text-align: right;\">              16</td><td>(&#x27;timm_image&#x27;, _b700</td><td>resnet18</td><td>(2.196517412935_2860</td><td style=\"text-align: right;\">2.30595</td><td>sum</td><td style=\"text-align: right;\">3.60317e-05</td><td>focal_loss</td><td style=\"text-align: right;\">11</td><td>adamw</td><td>best</td><td style=\"text-align: right;\">     1</td><td style=\"text-align: right;\">         34.8815</td><td style=\"text-align: right;\">      0.129021</td></tr>\n",
       "<tr><td>203444a3    </td><td>TERMINATED</td><td>127.0.0.1:19216</td><td style=\"text-align: right;\">              16</td><td>(&#x27;timm_image&#x27;, _b780</td><td>resnet18</td><td>(2.196517412935_2b00</td><td style=\"text-align: right;\">2.1039 </td><td>sum</td><td style=\"text-align: right;\">4.80941e-05</td><td>focal_loss</td><td style=\"text-align: right;\">13</td><td>adamw</td><td>best</td><td style=\"text-align: right;\">     1</td><td style=\"text-align: right;\">         35.0257</td><td style=\"text-align: right;\">      0.131586</td></tr>\n",
       "<tr><td>ca11c61d    </td><td>TERMINATED</td><td>127.0.0.1:16280</td><td style=\"text-align: right;\">              16</td><td>(&#x27;timm_image&#x27;, _5340</td><td>resnet18</td><td>(2.196517412935_4700</td><td style=\"text-align: right;\">2.95728</td><td>sum</td><td style=\"text-align: right;\">0.00017136 </td><td>focal_loss</td><td style=\"text-align: right;\">17</td><td>adamw</td><td>best</td><td style=\"text-align: right;\">     1</td><td style=\"text-align: right;\">         34.8588</td><td style=\"text-align: right;\">      0.162774</td></tr>\n",
       "<tr><td>4a930dc1    </td><td>TERMINATED</td><td>127.0.0.1:34492</td><td style=\"text-align: right;\">              16</td><td>(&#x27;timm_image&#x27;, _bb00</td><td>resnet18</td><td>(2.196517412935_5840</td><td style=\"text-align: right;\">2.95584</td><td>sum</td><td style=\"text-align: right;\">1.39551e-05</td><td>focal_loss</td><td style=\"text-align: right;\">11</td><td>adamw</td><td>best</td><td style=\"text-align: right;\">     1</td><td style=\"text-align: right;\">         35.115 </td><td style=\"text-align: right;\">      0.115602</td></tr>\n",
       "<tr><td>27f68f62    </td><td>TERMINATED</td><td>127.0.0.1:25576</td><td style=\"text-align: right;\">              64</td><td>(&#x27;timm_image&#x27;, _3680</td><td>resnet18</td><td>(2.196517412935_4be0</td><td style=\"text-align: right;\">2.5758 </td><td>sum</td><td style=\"text-align: right;\">0.00034363 </td><td>focal_loss</td><td style=\"text-align: right;\">11</td><td>adamw</td><td>best</td><td style=\"text-align: right;\">     1</td><td style=\"text-align: right;\">         34.6556</td><td style=\"text-align: right;\">      0.150512</td></tr>\n",
       "<tr><td>1dd88144    </td><td>TERMINATED</td><td>127.0.0.1:28204</td><td style=\"text-align: right;\">             128</td><td>(&#x27;timm_image&#x27;, _6200</td><td>resnet18</td><td>(2.196517412935_5a20</td><td style=\"text-align: right;\">2.66811</td><td>sum</td><td style=\"text-align: right;\">1.78515e-05</td><td>focal_loss</td><td style=\"text-align: right;\">17</td><td>adamw</td><td>best</td><td style=\"text-align: right;\">     1</td><td style=\"text-align: right;\">         34.9236</td><td style=\"text-align: right;\">      0.102003</td></tr>\n",
       "<tr><td>99536572    </td><td>TERMINATED</td><td>127.0.0.1:30812</td><td style=\"text-align: right;\">              16</td><td>(&#x27;timm_image&#x27;, _bac0</td><td>resnet18</td><td>(2.196517412935_4040</td><td style=\"text-align: right;\">2.40095</td><td>sum</td><td style=\"text-align: right;\">0.000484429</td><td>focal_loss</td><td style=\"text-align: right;\">14</td><td>adamw</td><td>best</td><td style=\"text-align: right;\">     4</td><td style=\"text-align: right;\">         47.3187</td><td style=\"text-align: right;\">      0.754559</td></tr>\n",
       "<tr><td>6a0efb73    </td><td>TERMINATED</td><td>127.0.0.1:35652</td><td style=\"text-align: right;\">               8</td><td>(&#x27;timm_image&#x27;, _1f00</td><td>resnet18</td><td>(2.196517412935_5fc0</td><td style=\"text-align: right;\">2.10101</td><td>sum</td><td style=\"text-align: right;\">0.000719425</td><td>focal_loss</td><td style=\"text-align: right;\"> 9</td><td>adamw</td><td>best</td><td style=\"text-align: right;\">    18</td><td style=\"text-align: right;\">        112.944 </td><td style=\"text-align: right;\">      0.969229</td></tr>\n",
       "<tr><td>68a14140    </td><td>TERMINATED</td><td>127.0.0.1:26048</td><td style=\"text-align: right;\">               8</td><td>(&#x27;timm_image&#x27;, _2b80</td><td>resnet18</td><td>(2.196517412935_6e60</td><td style=\"text-align: right;\">2.19535</td><td>sum</td><td style=\"text-align: right;\">0.00092202 </td><td>focal_loss</td><td style=\"text-align: right;\"> 5</td><td>adamw</td><td>best</td><td style=\"text-align: right;\">    10</td><td style=\"text-align: right;\">         77.2497</td><td style=\"text-align: right;\">      0.950945</td></tr>\n",
       "<tr><td>293a7be4    </td><td>TERMINATED</td><td>127.0.0.1:19860</td><td style=\"text-align: right;\">              64</td><td>(&#x27;timm_image&#x27;, _2200</td><td>resnet18</td><td>(2.196517412935_6800</td><td style=\"text-align: right;\">2.00719</td><td>sum</td><td style=\"text-align: right;\">0.000898284</td><td>focal_loss</td><td style=\"text-align: right;\"> 6</td><td>adamw</td><td>best</td><td style=\"text-align: right;\">     4</td><td style=\"text-align: right;\">         46.7483</td><td style=\"text-align: right;\">      0.760207</td></tr>\n",
       "<tr><td>1824fce3    </td><td>TERMINATED</td><td>127.0.0.1:28212</td><td style=\"text-align: right;\">               8</td><td>(&#x27;timm_image&#x27;, _2440</td><td>resnet18</td><td>(2.196517412935_7100</td><td style=\"text-align: right;\">2.10302</td><td>sum</td><td style=\"text-align: right;\">0.000678854</td><td>focal_loss</td><td style=\"text-align: right;\"> 9</td><td>adamw</td><td>best</td><td style=\"text-align: right;\">     4</td><td style=\"text-align: right;\">         49.2912</td><td style=\"text-align: right;\">      0.79519 </td></tr>\n",
       "<tr><td>ad705b62    </td><td>ERROR     </td><td>127.0.0.1:21524</td><td style=\"text-align: right;\">               8</td><td>(&#x27;timm_image&#x27;, _50c0</td><td>resnet18</td><td>(2.196517412935_6140</td><td style=\"text-align: right;\">2.88987</td><td>sum</td><td style=\"text-align: right;\">0.000534416</td><td>focal_loss</td><td style=\"text-align: right;\">14</td><td>adamw</td><td>best</td><td style=\"text-align: right;\">     1</td><td style=\"text-align: right;\">         35.4511</td><td style=\"text-align: right;\">      0.294895</td></tr>\n",
       "</tbody>\n",
       "</table>\n",
       "  </div>\n",
       "</div>\n",
       "<style>\n",
       ".tuneStatus {\n",
       "  color: var(--jp-ui-font-color1);\n",
       "}\n",
       ".tuneStatus .systemInfo {\n",
       "  display: flex;\n",
       "  flex-direction: column;\n",
       "}\n",
       ".tuneStatus td {\n",
       "  white-space: nowrap;\n",
       "}\n",
       ".tuneStatus .trialStatus {\n",
       "  display: flex;\n",
       "  flex-direction: column;\n",
       "}\n",
       ".tuneStatus h3 {\n",
       "  font-weight: bold;\n",
       "}\n",
       ".tuneStatus .hDivider {\n",
       "  border-bottom-width: var(--jp-border-width);\n",
       "  border-bottom-color: var(--jp-border-color0);\n",
       "  border-bottom-style: solid;\n",
       "}\n",
       ".tuneStatus .vDivider {\n",
       "  border-left-width: var(--jp-border-width);\n",
       "  border-left-color: var(--jp-border-color0);\n",
       "  border-left-style: solid;\n",
       "  margin: 0.5em 1em 0.5em 1em;\n",
       "}\n",
       "</style>\n"
      ],
      "text/plain": [
       "<IPython.core.display.HTML object>"
      ]
     },
     "metadata": {},
     "output_type": "display_data"
    },
    {
     "data": {
      "text/html": [
       "<div class=\"trialProgress\">\n",
       "  <h3>Trial Progress</h3>\n",
       "  <table>\n",
       "<thead>\n",
       "<tr><th>Trial name  </th><th>should_checkpoint  </th><th style=\"text-align: right;\">  val_f1_macro</th></tr>\n",
       "</thead>\n",
       "<tbody>\n",
       "<tr><td>05b49d79    </td><td>True               </td><td style=\"text-align: right;\">      0.107429</td></tr>\n",
       "<tr><td>0d22492d    </td><td>True               </td><td style=\"text-align: right;\">      0.161934</td></tr>\n",
       "<tr><td>1221b546    </td><td>True               </td><td style=\"text-align: right;\">      0.937967</td></tr>\n",
       "<tr><td>15d988fe    </td><td>True               </td><td style=\"text-align: right;\">      0.122284</td></tr>\n",
       "<tr><td>1824fce3    </td><td>True               </td><td style=\"text-align: right;\">      0.79519 </td></tr>\n",
       "<tr><td>1da2a585    </td><td>True               </td><td style=\"text-align: right;\">      0.129021</td></tr>\n",
       "<tr><td>1dd88144    </td><td>True               </td><td style=\"text-align: right;\">      0.102003</td></tr>\n",
       "<tr><td>203444a3    </td><td>True               </td><td style=\"text-align: right;\">      0.131586</td></tr>\n",
       "<tr><td>27f68f62    </td><td>True               </td><td style=\"text-align: right;\">      0.150512</td></tr>\n",
       "<tr><td>293a7be4    </td><td>True               </td><td style=\"text-align: right;\">      0.760207</td></tr>\n",
       "<tr><td>38fa28c9    </td><td>True               </td><td style=\"text-align: right;\">      0.219123</td></tr>\n",
       "<tr><td>43fc9df6    </td><td>True               </td><td style=\"text-align: right;\">      0.952434</td></tr>\n",
       "<tr><td>4a930dc1    </td><td>True               </td><td style=\"text-align: right;\">      0.115602</td></tr>\n",
       "<tr><td>53ccb6eb    </td><td>True               </td><td style=\"text-align: right;\">      0.130038</td></tr>\n",
       "<tr><td>68a14140    </td><td>True               </td><td style=\"text-align: right;\">      0.950945</td></tr>\n",
       "<tr><td>6a0efb73    </td><td>True               </td><td style=\"text-align: right;\">      0.969229</td></tr>\n",
       "<tr><td>78d3e913    </td><td>True               </td><td style=\"text-align: right;\">      0.110731</td></tr>\n",
       "<tr><td>86be4c53    </td><td>True               </td><td style=\"text-align: right;\">      0.101952</td></tr>\n",
       "<tr><td>99536572    </td><td>True               </td><td style=\"text-align: right;\">      0.754559</td></tr>\n",
       "<tr><td>ab35fae9    </td><td>True               </td><td style=\"text-align: right;\">      0.47169 </td></tr>\n",
       "<tr><td>ad705b62    </td><td>True               </td><td style=\"text-align: right;\">      0.294895</td></tr>\n",
       "<tr><td>b273c23c    </td><td>True               </td><td style=\"text-align: right;\">      0.122825</td></tr>\n",
       "<tr><td>c2382f43    </td><td>True               </td><td style=\"text-align: right;\">      0.931442</td></tr>\n",
       "<tr><td>ca11c61d    </td><td>True               </td><td style=\"text-align: right;\">      0.162774</td></tr>\n",
       "<tr><td>e96e0613    </td><td>True               </td><td style=\"text-align: right;\">      0.117965</td></tr>\n",
       "</tbody>\n",
       "</table>\n",
       "</div>\n",
       "<style>\n",
       ".trialProgress {\n",
       "  display: flex;\n",
       "  flex-direction: column;\n",
       "  color: var(--jp-ui-font-color1);\n",
       "}\n",
       ".trialProgress h3 {\n",
       "  font-weight: bold;\n",
       "}\n",
       ".trialProgress td {\n",
       "  white-space: nowrap;\n",
       "}\n",
       "</style>\n"
      ],
      "text/plain": [
       "<IPython.core.display.HTML object>"
      ]
     },
     "metadata": {},
     "output_type": "display_data"
    },
    {
     "name": "stderr",
     "output_type": "stream",
     "text": [
      "2024-12-29 02:54:42,623\tERROR tune_controller.py:1331 -- Trial task failed for trial ad705b62\n",
      "Traceback (most recent call last):\n",
      "  File \"e:\\Programs\\miniforge3\\envs\\autogluon_stable_112\\Lib\\site-packages\\ray\\air\\execution\\_internal\\event_manager.py\", line 110, in resolve_future\n",
      "    result = ray.get(future)\n",
      "             ^^^^^^^^^^^^^^^\n",
      "  File \"e:\\Programs\\miniforge3\\envs\\autogluon_stable_112\\Lib\\site-packages\\ray\\_private\\auto_init_hook.py\", line 21, in auto_init_wrapper\n",
      "    return fn(*args, **kwargs)\n",
      "           ^^^^^^^^^^^^^^^^^^^\n",
      "  File \"e:\\Programs\\miniforge3\\envs\\autogluon_stable_112\\Lib\\site-packages\\ray\\_private\\client_mode_hook.py\", line 103, in wrapper\n",
      "    return func(*args, **kwargs)\n",
      "           ^^^^^^^^^^^^^^^^^^^^^\n",
      "  File \"e:\\Programs\\miniforge3\\envs\\autogluon_stable_112\\Lib\\site-packages\\ray\\_private\\worker.py\", line 2691, in get\n",
      "    values, debugger_breakpoint = worker.get_objects(object_refs, timeout=timeout)\n",
      "                                  ^^^^^^^^^^^^^^^^^^^^^^^^^^^^^^^^^^^^^^^^^^^^^^^^\n",
      "  File \"e:\\Programs\\miniforge3\\envs\\autogluon_stable_112\\Lib\\site-packages\\ray\\_private\\worker.py\", line 871, in get_objects\n",
      "    raise value.as_instanceof_cause()\n",
      "ray.exceptions.RayTaskError(PermissionError): \u001b[36mray::ImplicitFunc.train()\u001b[39m (pid=21524, ip=127.0.0.1, actor_id=b6c05a4102db7251f34a82df01000000, repr=hpo_trial)\n",
      "  File \"python\\ray\\_raylet.pyx\", line 1859, in ray._raylet.execute_task\n",
      "  File \"python\\ray\\_raylet.pyx\", line 1800, in ray._raylet.execute_task.function_executor\n",
      "  File \"e:\\Programs\\miniforge3\\envs\\autogluon_stable_112\\Lib\\site-packages\\ray\\_private\\function_manager.py\", line 696, in actor_method_executor\n",
      "    return method(__ray_actor, *args, **kwargs)\n",
      "           ^^^^^^^^^^^^^^^^^^^^^^^^^^^^^^^^^^^^\n",
      "  File \"e:\\Programs\\miniforge3\\envs\\autogluon_stable_112\\Lib\\site-packages\\ray\\util\\tracing\\tracing_helper.py\", line 467, in _resume_span\n",
      "    return method(self, *_args, **_kwargs)\n",
      "           ^^^^^^^^^^^^^^^^^^^^^^^^^^^^^^^\n",
      "  File \"e:\\Programs\\miniforge3\\envs\\autogluon_stable_112\\Lib\\site-packages\\ray\\tune\\trainable\\trainable.py\", line 331, in train\n",
      "    raise skipped from exception_cause(skipped)\n",
      "  File \"e:\\Programs\\miniforge3\\envs\\autogluon_stable_112\\Lib\\site-packages\\ray\\air\\_internal\\util.py\", line 104, in run\n",
      "    self._ret = self._target(*self._args, **self._kwargs)\n",
      "                ^^^^^^^^^^^^^^^^^^^^^^^^^^^^^^^^^^^^^^^^^\n",
      "  File \"e:\\Programs\\miniforge3\\envs\\autogluon_stable_112\\Lib\\site-packages\\ray\\tune\\trainable\\function_trainable.py\", line 45, in <lambda>\n",
      "    training_func=lambda: self._trainable_func(self.config),\n",
      "                          ^^^^^^^^^^^^^^^^^^^^^^^^^^^^^^^^^\n",
      "  File \"e:\\Programs\\miniforge3\\envs\\autogluon_stable_112\\Lib\\site-packages\\ray\\util\\tracing\\tracing_helper.py\", line 467, in _resume_span\n",
      "    return method(self, *_args, **_kwargs)\n",
      "           ^^^^^^^^^^^^^^^^^^^^^^^^^^^^^^^\n",
      "  File \"e:\\Programs\\miniforge3\\envs\\autogluon_stable_112\\Lib\\site-packages\\ray\\tune\\trainable\\function_trainable.py\", line 250, in _trainable_func\n",
      "    output = fn()\n",
      "             ^^^^\n",
      "  File \"e:\\Programs\\miniforge3\\envs\\autogluon_stable_112\\Lib\\site-packages\\ray\\tune\\trainable\\util.py\", line 130, in inner\n",
      "    return trainable(config, **fn_kwargs)\n",
      "           ^^^^^^^^^^^^^^^^^^^^^^^^^^^^^^\n",
      "  File \"e:\\Programs\\miniforge3\\envs\\autogluon_stable_112\\Lib\\site-packages\\autogluon\\multimodal\\utils\\hpo.py\", line 62, in hpo_trial\n",
      "    learner.fit_per_run(**_fit_args)\n",
      "  File \"e:\\Programs\\miniforge3\\envs\\autogluon_stable_112\\Lib\\site-packages\\autogluon\\multimodal\\learners\\base.py\", line 1320, in fit_per_run\n",
      "    self.run_trainer(\n",
      "  File \"e:\\Programs\\miniforge3\\envs\\autogluon_stable_112\\Lib\\site-packages\\autogluon\\multimodal\\learners\\base.py\", line 1175, in run_trainer\n",
      "    trainer.fit(\n",
      "  File \"e:\\Programs\\miniforge3\\envs\\autogluon_stable_112\\Lib\\site-packages\\lightning\\pytorch\\trainer\\trainer.py\", line 543, in fit\n",
      "    call._call_and_handle_interrupt(\n",
      "  File \"e:\\Programs\\miniforge3\\envs\\autogluon_stable_112\\Lib\\site-packages\\lightning\\pytorch\\trainer\\call.py\", line 59, in _call_and_handle_interrupt\n",
      "    _interrupt(trainer, exception)\n",
      "  File \"e:\\Programs\\miniforge3\\envs\\autogluon_stable_112\\Lib\\site-packages\\lightning\\pytorch\\trainer\\call.py\", line 73, in _interrupt\n",
      "    logger.finalize(\"failed\")\n",
      "  File \"e:\\Programs\\miniforge3\\envs\\autogluon_stable_112\\Lib\\site-packages\\lightning_utilities\\core\\rank_zero.py\", line 42, in wrapped_fn\n",
      "    return fn(*args, **kwargs)\n",
      "           ^^^^^^^^^^^^^^^^^^^\n",
      "  File \"e:\\Programs\\miniforge3\\envs\\autogluon_stable_112\\Lib\\site-packages\\lightning\\pytorch\\loggers\\tensorboard.py\", line 226, in finalize\n",
      "    super().finalize(status)\n",
      "  File \"e:\\Programs\\miniforge3\\envs\\autogluon_stable_112\\Lib\\site-packages\\lightning_utilities\\core\\rank_zero.py\", line 42, in wrapped_fn\n",
      "    return fn(*args, **kwargs)\n",
      "           ^^^^^^^^^^^^^^^^^^^\n",
      "  File \"e:\\Programs\\miniforge3\\envs\\autogluon_stable_112\\Lib\\site-packages\\lightning\\fabric\\loggers\\tensorboard.py\", line 299, in finalize\n",
      "    self.experiment.flush()\n",
      "  File \"e:\\Programs\\miniforge3\\envs\\autogluon_stable_112\\Lib\\site-packages\\torch\\utils\\tensorboard\\writer.py\", line 1194, in flush\n",
      "    writer.flush()\n",
      "  File \"e:\\Programs\\miniforge3\\envs\\autogluon_stable_112\\Lib\\site-packages\\torch\\utils\\tensorboard\\writer.py\", line 153, in flush\n",
      "    self.event_writer.flush()\n",
      "  File \"e:\\Programs\\miniforge3\\envs\\autogluon_stable_112\\Lib\\site-packages\\tensorboard\\summary\\writer\\event_file_writer.py\", line 125, in flush\n",
      "    self._async_writer.flush()\n",
      "  File \"e:\\Programs\\miniforge3\\envs\\autogluon_stable_112\\Lib\\site-packages\\tensorboard\\summary\\writer\\event_file_writer.py\", line 186, in flush\n",
      "    self._check_worker_status()\n",
      "  File \"e:\\Programs\\miniforge3\\envs\\autogluon_stable_112\\Lib\\site-packages\\tensorboard\\summary\\writer\\event_file_writer.py\", line 212, in _check_worker_status\n",
      "    raise exception\n",
      "  File \"e:\\Programs\\miniforge3\\envs\\autogluon_stable_112\\Lib\\site-packages\\lightning\\pytorch\\trainer\\call.py\", line 44, in _call_and_handle_interrupt\n",
      "    return trainer_fn(*args, **kwargs)\n",
      "           ^^^^^^^^^^^^^^^^^^^^^^^^^^^\n",
      "  File \"e:\\Programs\\miniforge3\\envs\\autogluon_stable_112\\Lib\\site-packages\\lightning\\pytorch\\trainer\\trainer.py\", line 579, in _fit_impl\n",
      "    self._run(model, ckpt_path=ckpt_path)\n",
      "  File \"e:\\Programs\\miniforge3\\envs\\autogluon_stable_112\\Lib\\site-packages\\lightning\\pytorch\\trainer\\trainer.py\", line 986, in _run\n",
      "    results = self._run_stage()\n",
      "              ^^^^^^^^^^^^^^^^^\n",
      "  File \"e:\\Programs\\miniforge3\\envs\\autogluon_stable_112\\Lib\\site-packages\\lightning\\pytorch\\trainer\\trainer.py\", line 1030, in _run_stage\n",
      "    self.fit_loop.run()\n",
      "  File \"e:\\Programs\\miniforge3\\envs\\autogluon_stable_112\\Lib\\site-packages\\lightning\\pytorch\\loops\\fit_loop.py\", line 205, in run\n",
      "    self.advance()\n",
      "  File \"e:\\Programs\\miniforge3\\envs\\autogluon_stable_112\\Lib\\site-packages\\lightning\\pytorch\\loops\\fit_loop.py\", line 363, in advance\n",
      "    self.epoch_loop.run(self._data_fetcher)\n",
      "  File \"e:\\Programs\\miniforge3\\envs\\autogluon_stable_112\\Lib\\site-packages\\lightning\\pytorch\\loops\\training_epoch_loop.py\", line 140, in run\n",
      "    self.advance(data_fetcher)\n",
      "  File \"e:\\Programs\\miniforge3\\envs\\autogluon_stable_112\\Lib\\site-packages\\lightning\\pytorch\\loops\\training_epoch_loop.py\", line 278, in advance\n",
      "    trainer._logger_connector.update_train_step_metrics()\n",
      "  File \"e:\\Programs\\miniforge3\\envs\\autogluon_stable_112\\Lib\\site-packages\\lightning\\pytorch\\trainer\\connectors\\logger_connector\\logger_connector.py\", line 163, in update_train_step_metrics\n",
      "    self.log_metrics(self.metrics[\"log\"])\n",
      "  File \"e:\\Programs\\miniforge3\\envs\\autogluon_stable_112\\Lib\\site-packages\\lightning\\pytorch\\trainer\\connectors\\logger_connector\\logger_connector.py\", line 118, in log_metrics\n",
      "    logger.save()\n",
      "  File \"e:\\Programs\\miniforge3\\envs\\autogluon_stable_112\\Lib\\site-packages\\lightning_utilities\\core\\rank_zero.py\", line 42, in wrapped_fn\n",
      "    return fn(*args, **kwargs)\n",
      "           ^^^^^^^^^^^^^^^^^^^\n",
      "  File \"e:\\Programs\\miniforge3\\envs\\autogluon_stable_112\\Lib\\site-packages\\lightning\\pytorch\\loggers\\tensorboard.py\", line 213, in save\n",
      "    super().save()\n",
      "  File \"e:\\Programs\\miniforge3\\envs\\autogluon_stable_112\\Lib\\site-packages\\lightning_utilities\\core\\rank_zero.py\", line 42, in wrapped_fn\n",
      "    return fn(*args, **kwargs)\n",
      "           ^^^^^^^^^^^^^^^^^^^\n",
      "  File \"e:\\Programs\\miniforge3\\envs\\autogluon_stable_112\\Lib\\site-packages\\lightning\\fabric\\loggers\\tensorboard.py\", line 293, in save\n",
      "    self.experiment.flush()\n",
      "  File \"e:\\Programs\\miniforge3\\envs\\autogluon_stable_112\\Lib\\site-packages\\torch\\utils\\tensorboard\\writer.py\", line 1194, in flush\n",
      "    writer.flush()\n",
      "  File \"e:\\Programs\\miniforge3\\envs\\autogluon_stable_112\\Lib\\site-packages\\torch\\utils\\tensorboard\\writer.py\", line 153, in flush\n",
      "    self.event_writer.flush()\n",
      "  File \"e:\\Programs\\miniforge3\\envs\\autogluon_stable_112\\Lib\\site-packages\\tensorboard\\summary\\writer\\event_file_writer.py\", line 125, in flush\n",
      "    self._async_writer.flush()\n",
      "  File \"e:\\Programs\\miniforge3\\envs\\autogluon_stable_112\\Lib\\site-packages\\tensorboard\\summary\\writer\\event_file_writer.py\", line 194, in flush\n",
      "    self._check_worker_status()\n",
      "  File \"e:\\Programs\\miniforge3\\envs\\autogluon_stable_112\\Lib\\site-packages\\tensorboard\\summary\\writer\\event_file_writer.py\", line 212, in _check_worker_status\n",
      "    raise exception\n",
      "  File \"e:\\Programs\\miniforge3\\envs\\autogluon_stable_112\\Lib\\threading.py\", line 1045, in _bootstrap_inner\n",
      "    self.run()\n",
      "  File \"e:\\Programs\\miniforge3\\envs\\autogluon_stable_112\\Lib\\site-packages\\tensorboard\\summary\\writer\\event_file_writer.py\", line 244, in run\n",
      "    self._run()\n",
      "  File \"e:\\Programs\\miniforge3\\envs\\autogluon_stable_112\\Lib\\site-packages\\tensorboard\\summary\\writer\\event_file_writer.py\", line 275, in _run\n",
      "    self._record_writer.write(data)\n",
      "  File \"e:\\Programs\\miniforge3\\envs\\autogluon_stable_112\\Lib\\site-packages\\tensorboard\\summary\\writer\\record_writer.py\", line 40, in write\n",
      "    self._writer.write(header + header_crc + data + footer_crc)\n",
      "  File \"e:\\Programs\\miniforge3\\envs\\autogluon_stable_112\\Lib\\site-packages\\tensorboard\\compat\\tensorflow_stub\\io\\gfile.py\", line 775, in write\n",
      "    self.fs.append(self.filename, file_content, self.binary_mode)\n",
      "  File \"e:\\Programs\\miniforge3\\envs\\autogluon_stable_112\\Lib\\site-packages\\tensorboard\\compat\\tensorflow_stub\\io\\gfile.py\", line 167, in append\n",
      "    self._write(filename, file_content, \"ab\" if binary_mode else \"a\")\n",
      "  File \"e:\\Programs\\miniforge3\\envs\\autogluon_stable_112\\Lib\\site-packages\\tensorboard\\compat\\tensorflow_stub\\io\\gfile.py\", line 171, in _write\n",
      "    with io.open(filename, mode, encoding=encoding) as f:\n",
      "         ^^^^^^^^^^^^^^^^^^^^^^^^^^^^^^^^^^^^^^^^^^\n",
      "PermissionError: [Errno 13] Permission denied: b'C:/Users/comp4/AppData/Local/Temp/ray/session_2024-12-29_01-53-47_503129_7224/artifacts/2024-12-29_02-51-33/train_resnet18_25_trials_2024-12-29_02-51-33/driver_artifacts/ad705b62\\\\events.out.tfevents.1735415646.DESKTOP-JR4K5FK.21524.0'\n",
      "2024-12-29 03:18:07,327\tERROR tune.py:1037 -- Trials did not complete: [ad705b62]\n",
      "Removing non-optimal trials and only keep the best one.\n",
      "e:\\Programs\\miniforge3\\envs\\autogluon_stable_112\\Lib\\site-packages\\autogluon\\multimodal\\utils\\checkpoint.py:64: FutureWarning: You are using `torch.load` with `weights_only=False` (the current default value), which uses the default pickle module implicitly. It is possible to construct malicious pickle data which will execute arbitrary code during unpickling (See https://github.com/pytorch/pytorch/blob/main/SECURITY.md#untrusted-models for more details). In a future release, the default value for `weights_only` will be flipped to `True`. This limits the functions that could be executed during unpickling. Arbitrary objects will no longer be allowed to be loaded via this mode unless they are explicitly allowlisted by the user via `torch.serialization.add_safe_globals`. We recommend you start setting `weights_only=True` for any use case where you don't have full control of the loaded file. Please open an issue on GitHub for any issues related to this experimental feature.\n",
      "  avg_state_dict = torch.load(checkpoint_paths[0], map_location=torch.device(\"cpu\"))[\"state_dict\"]\n",
      "AutoMM has created your model. 🎉🎉🎉\n",
      "\n",
      "To load the model, use the code below:\n",
      "    ```python\n",
      "    from autogluon.multimodal import MultiModalPredictor\n",
      "    predictor = MultiModalPredictor.load(\"e:\\Current_Workdir\\palm-fruit-classification\\autogluon_ver\\model\\master\\train_resnet18_25_trials_2024-12-29_02-51-33\")\n",
      "    ```\n",
      "\n",
      "If you are not satisfied with the model, try to increase the training time, \n",
      "adjust the hyperparameters (https://auto.gluon.ai/stable/tutorials/multimodal/advanced_topics/customization.html),\n",
      "or post issues on GitHub (https://github.com/autogluon/autogluon/issues).\n",
      "\n",
      "\n"
     ]
    },
    {
     "data": {
      "text/plain": [
       "<autogluon.multimodal.predictor.MultiModalPredictor at 0x20a9add8590>"
      ]
     },
     "execution_count": 29,
     "metadata": {},
     "output_type": "execute_result"
    }
   ],
   "source": [
    "predictor_resnet18.fit(\n",
    "        train_data=train_df,\n",
    "        hyperparameters=hyperparameters_resnet18,\n",
    "        hyperparameter_tune_kwargs=hyperparameter_tune_kwargs,\n",
    "        # time_limit = 3600\n",
    ")"
   ]
  },
  {
   "cell_type": "markdown",
   "metadata": {},
   "source": [
    "## Evaluate on Test Dataset"
   ]
  },
  {
   "cell_type": "code",
   "execution_count": 30,
   "metadata": {},
   "outputs": [
    {
     "name": "stderr",
     "output_type": "stream",
     "text": [
      "e:\\Programs\\miniforge3\\envs\\autogluon_stable_112\\Lib\\site-packages\\lightning\\pytorch\\plugins\\precision\\amp.py:52: `torch.cuda.amp.GradScaler(args...)` is deprecated. Please use `torch.amp.GradScaler('cuda', args...)` instead.\n"
     ]
    },
    {
     "name": "stdout",
     "output_type": "stream",
     "text": [
      "Predicting DataLoader 0: 100%|██████████| 12/12 [00:00<00:00, 20.25it/s]\n"
     ]
    },
    {
     "data": {
      "text/plain": [
       "{'f1_macro': 0.8784119031245466,\n",
       " 'f1_micro': 0.8759894459102903,\n",
       " 'accuracy': 0.8759894459102903,\n",
       " 'recall_macro': 0.9202275448652261,\n",
       " 'precision_macro': 0.8501579937854448}"
      ]
     },
     "execution_count": 30,
     "metadata": {},
     "output_type": "execute_result"
    }
   ],
   "source": [
    "scores_resnet18 = predictor_resnet18.evaluate(test_df, metrics=[\"f1_macro\", \"f1_micro\", \"accuracy\", \"recall_macro\", \"precision_macro\"])\n",
    "scores_resnet18"
   ]
  },
  {
   "cell_type": "code",
   "execution_count": 31,
   "metadata": {},
   "outputs": [
    {
     "name": "stderr",
     "output_type": "stream",
     "text": [
      "e:\\Programs\\miniforge3\\envs\\autogluon_stable_112\\Lib\\site-packages\\lightning\\pytorch\\plugins\\precision\\amp.py:52: `torch.cuda.amp.GradScaler(args...)` is deprecated. Please use `torch.amp.GradScaler('cuda', args...)` instead.\n"
     ]
    },
    {
     "name": "stdout",
     "output_type": "stream",
     "text": [
      "Predicting DataLoader 0: 100%|██████████| 12/12 [00:00<00:00, 23.62it/s]\n"
     ]
    }
   ],
   "source": [
    "preds_resnet18 = predictor_resnet18.predict(test_df)"
   ]
  },
  {
   "cell_type": "code",
   "execution_count": 32,
   "metadata": {},
   "outputs": [],
   "source": [
    "true_labels = test_df['label_text']"
   ]
  },
  {
   "cell_type": "markdown",
   "metadata": {},
   "source": [
    "# Classification Report"
   ]
  },
  {
   "cell_type": "code",
   "execution_count": 33,
   "metadata": {},
   "outputs": [],
   "source": [
    "cr = classification_report(true_labels, preds_resnet18)"
   ]
  },
  {
   "cell_type": "code",
   "execution_count": 34,
   "metadata": {},
   "outputs": [
    {
     "name": "stdout",
     "output_type": "stream",
     "text": [
      "              precision    recall  f1-score   support\n",
      "\n",
      " empty_bunch       0.91      0.87      0.89        23\n",
      "    overripe       0.93      0.93      0.93        54\n",
      "        ripe       0.93      0.82      0.87       154\n",
      "      rotten       0.80      1.00      0.89         8\n",
      "   underripe       0.83      0.91      0.86       130\n",
      "      unripe       0.71      1.00      0.83        10\n",
      "\n",
      "    accuracy                           0.88       379\n",
      "   macro avg       0.85      0.92      0.88       379\n",
      "weighted avg       0.88      0.88      0.88       379\n",
      "\n"
     ]
    }
   ],
   "source": [
    "print(cr)"
   ]
  },
  {
   "cell_type": "code",
   "execution_count": 35,
   "metadata": {},
   "outputs": [],
   "source": [
    "cm = confusion_matrix(true_labels, preds_resnet18)"
   ]
  },
  {
   "cell_type": "code",
   "execution_count": 36,
   "metadata": {},
   "outputs": [
    {
     "data": {
      "text/plain": [
       "array([[ 20,   1,   0,   2,   0,   0],\n",
       "       [  2,  50,   1,   0,   1,   0],\n",
       "       [  0,   2, 126,   0,  24,   2],\n",
       "       [  0,   0,   0,   8,   0,   0],\n",
       "       [  0,   1,   9,   0, 118,   2],\n",
       "       [  0,   0,   0,   0,   0,  10]], dtype=int64)"
      ]
     },
     "execution_count": 36,
     "metadata": {},
     "output_type": "execute_result"
    }
   ],
   "source": [
    "cm"
   ]
  },
  {
   "cell_type": "markdown",
   "metadata": {},
   "source": [
    "Accuracy per Class"
   ]
  },
  {
   "cell_type": "code",
   "execution_count": 37,
   "metadata": {},
   "outputs": [
    {
     "data": {
      "text/plain": [
       "array([0.86956522, 0.92592593, 0.81818182, 1.        , 0.90769231,\n",
       "       1.        ])"
      ]
     },
     "execution_count": 37,
     "metadata": {},
     "output_type": "execute_result"
    }
   ],
   "source": [
    "cm.diagonal()/cm.sum(axis=1)"
   ]
  },
  {
   "cell_type": "code",
   "execution_count": 38,
   "metadata": {},
   "outputs": [
    {
     "data": {
      "image/png": "[encoded data removed]",
      "text/plain": [
       "<Figure size 640x480 with 2 Axes>"
      ]
     },
     "metadata": {},
     "output_type": "display_data"
    }
   ],
   "source": [
    "disp = ConfusionMatrixDisplay(confusion_matrix=cm, display_labels=predictor_resnet18.class_labels)\n",
    "disp.plot(cmap=plt.cm.Blues)\n",
    "plt.show()"
   ]
  },
  {
   "cell_type": "markdown",
   "metadata": {},
   "source": [
    "## Save Raw TIMM Format"
   ]
  },
  {
   "cell_type": "code",
   "execution_count": 39,
   "metadata": {},
   "outputs": [
    {
     "name": "stderr",
     "output_type": "stream",
     "text": [
      "Model timm_image weights saved to ../../model/master/train_resnet18_25_trials_2024-12-29_02-51-33/timm\\timm_image/pytorch_model.bin.\n",
      "Timm config saved to ../../model/master/train_resnet18_25_trials_2024-12-29_02-51-33/timm\\timm_image/config.json.\n"
     ]
    },
    {
     "data": {
      "text/plain": [
       "'../../model/master/train_resnet18_25_trials_2024-12-29_02-51-33/timm'"
      ]
     },
     "execution_count": 39,
     "metadata": {},
     "output_type": "execute_result"
    }
   ],
   "source": [
    "predictor_resnet18.dump_model(model_path_resnet18 + \"/timm\")"
   ]
  },
  {
   "cell_type": "markdown",
   "metadata": {},
   "source": [
    "## Finetuning EfficientNet V2"
   ]
  },
  {
   "cell_type": "markdown",
   "metadata": {},
   "source": [
    "Calculate class proportions for Focal Loss $\\alpha$  \n",
    "see [this](https://amaarora.github.io/posts/2020-06-29-FocalLoss.html) for details."
   ]
  },
  {
   "cell_type": "code",
   "execution_count": 40,
   "metadata": {},
   "outputs": [
    {
     "data": {
      "text/plain": [
       "[2.1965174129353233,\n",
       " 1.1964769647696476,\n",
       " 0.44327309236947793,\n",
       " 5.660256410256411,\n",
       " 0.5145687645687645,\n",
       " 3.003401360544218]"
      ]
     },
     "execution_count": 40,
     "metadata": {},
     "output_type": "execute_result"
    }
   ],
   "source": [
    "class_weights = compute_class_weight(class_weight=\"balanced\", classes=np.unique(train_df[\"label_text\"]), y=train_df[\"label_text\"])\n",
    "class_weights_list = class_weights.tolist()\n",
    "class_weights_list"
   ]
  },
  {
   "cell_type": "markdown",
   "metadata": {},
   "source": [
    "Set Training Folder Name"
   ]
  },
  {
   "cell_type": "code",
   "execution_count": 41,
   "metadata": {},
   "outputs": [],
   "source": [
    "now = datetime.datetime.now()\n",
    "timestamp_str = now.strftime(\"%Y-%m-%d_%H-%M-%S\")\n",
    "model_path_efficientnetv2 = \"../../model/master/\" + f\"train_efficientnetv2_25_trials_{timestamp_str}\""
   ]
  },
  {
   "cell_type": "code",
   "execution_count": 42,
   "metadata": {},
   "outputs": [
    {
     "data": {
      "text/plain": [
       "'../../model/master/train_resnet18_25_trials_2024-12-29_03-18-28'"
      ]
     },
     "execution_count": 42,
     "metadata": {},
     "output_type": "execute_result"
    }
   ],
   "source": [
    "model_path_efficientnetv2"
   ]
  },
  {
   "cell_type": "code",
   "execution_count": 43,
   "metadata": {},
   "outputs": [],
   "source": [
    "os.makedirs(model_path_efficientnetv2, exist_ok=True)"
   ]
  },
  {
   "cell_type": "markdown",
   "metadata": {},
   "source": [
    "Defining Hyperparameters"
   ]
  },
  {
   "cell_type": "code",
   "execution_count": 44,
   "metadata": {},
   "outputs": [],
   "source": [
    "hyperparameters_efficientnetv2 = {\n",
    "    \"optimization.learning_rate\": tune.loguniform(0.00001, 0.001),\n",
    "    \"optimization.max_epochs\":tune.randint(5,20),\n",
    "    \"env.batch_size\": tune.choice([8, 16, 32, 64, 128, 256]),\n",
    "    #\"env.batch_size\": tune.qlograndint(8,128,2),\n",
    "    \"optimization.loss_function\": \"focal_loss\",\n",
    "    \"optimization.focal_loss.alpha\": class_weights_list,\n",
    "    \"optimization.focal_loss.gamma\": tune.uniform(2, 3),\n",
    "    \"optimization.focal_loss.reduction\": \"sum\",\n",
    "    \"model.timm_image.checkpoint_name\": \"tf_efficientnetv2_s.in1k\",\n",
    "    \"optimization.optim_type\": \"adamw\",\n",
    "    \"optimization.top_k_average_method\": \"best\"\n",
    "}"
   ]
  },
  {
   "cell_type": "code",
   "execution_count": 45,
   "metadata": {},
   "outputs": [],
   "source": [
    "predictor_efficientnetv2 = MultiModalPredictor(label=\"label_text\", path=model_path_efficientnetv2, problem_type='multiclass', eval_metric=\"f1_macro\")"
   ]
  },
  {
   "cell_type": "code",
   "execution_count": 46,
   "metadata": {},
   "outputs": [],
   "source": [
    "hyperparameter_tune_kwargs = {\n",
    "    \"searcher\": \"bayes\",\n",
    "    \"scheduler\": \"ASHA\",\n",
    "    \"num_trials\": NUM_TRIALS\n",
    "}"
   ]
  },
  {
   "cell_type": "code",
   "execution_count": 47,
   "metadata": {},
   "outputs": [
    {
     "name": "stderr",
     "output_type": "stream",
     "text": [
      "=================== System Info ===================\n",
      "AutoGluon Version:  1.1.1\n",
      "Python Version:     3.11.10\n",
      "Operating System:   Windows\n",
      "Platform Machine:   AMD64\n",
      "Platform Version:   10.0.19045\n",
      "CPU Count:          32\n",
      "Pytorch Version:    2.4.1\n",
      "CUDA Version:       12.4\n",
      "Memory Avail:       110.87 GB / 127.91 GB (86.7%)\n",
      "Disk Space Avail:   1396.97 GB / 1863.00 GB (75.0%)\n",
      "===================================================\n"
     ]
    },
    {
     "data": {
      "text/html": [
       "<div class=\"tuneStatus\">\n",
       "  <div style=\"display: flex;flex-direction: row\">\n",
       "    <div style=\"display: flex;flex-direction: column;\">\n",
       "      <h3>Tune Status</h3>\n",
       "      <table>\n",
       "<tbody>\n",
       "<tr><td>Current time:</td><td>2024-12-29 04:08:28</td></tr>\n",
       "<tr><td>Running for: </td><td>00:49:59.26        </td></tr>\n",
       "<tr><td>Memory:      </td><td>23.5/127.9 GiB     </td></tr>\n",
       "</tbody>\n",
       "</table>\n",
       "    </div>\n",
       "    <div class=\"vDivider\"></div>\n",
       "    <div class=\"systemInfo\">\n",
       "      <h3>System Info</h3>\n",
       "      Using AsyncHyperBand: num_stopped=21<br>Bracket: Iter 4096.000: None | Iter 1024.000: None | Iter 256.000: None | Iter 64.000: None | Iter 16.000: 0.957423061132431 | Iter 4.000: 0.8848487138748169 | Iter 1.000: 0.45960044860839844<br>Logical resource usage: 32.0/32 CPUs, 1.0/1 GPUs (0.0/1.0 accelerator_type:G)\n",
       "    </div>\n",
       "    \n",
       "  </div>\n",
       "  <div class=\"hDivider\"></div>\n",
       "  <div class=\"trialStatus\">\n",
       "    <h3>Trial Status</h3>\n",
       "    <table>\n",
       "<thead>\n",
       "<tr><th>Trial name  </th><th>status    </th><th>loc            </th><th style=\"text-align: right;\">  env.batch_size</th><th>model.names         </th><th>model.timm_image.che\n",
       "ckpoint_name                     </th><th>optimization.focal_l\n",
       "oss.alpha                     </th><th style=\"text-align: right;\">        optimization.focal_l\n",
       "oss.gamma</th><th>optimization.focal_l\n",
       "oss.reduction    </th><th style=\"text-align: right;\">            optimization.learnin\n",
       "g_rate</th><th>optimization.loss_fu\n",
       "nction           </th><th style=\"text-align: right;\">   optimization.max_epo\n",
       "chs</th><th>optimization.optim_t\n",
       "ype      </th><th>optimization.top_k_a\n",
       "verage_method     </th><th style=\"text-align: right;\">  iter</th><th style=\"text-align: right;\">  total time (s)</th><th style=\"text-align: right;\">  val_f1_macro</th></tr>\n",
       "</thead>\n",
       "<tbody>\n",
       "<tr><td>db5d7770    </td><td>TERMINATED</td><td>127.0.0.1:27192</td><td style=\"text-align: right;\">              64</td><td>(&#x27;timm_image&#x27;, _9780</td><td>tf_efficientnet_2fb0</td><td>(2.196517412935_4100</td><td style=\"text-align: right;\">2.72256</td><td>sum</td><td style=\"text-align: right;\">2.63974e-05</td><td>focal_loss</td><td style=\"text-align: right;\">18</td><td>adamw</td><td>best</td><td style=\"text-align: right;\">    36</td><td style=\"text-align: right;\">        641.433 </td><td style=\"text-align: right;\">      0.904031</td></tr>\n",
       "<tr><td>2eb0a1f0    </td><td>TERMINATED</td><td>127.0.0.1:28640</td><td style=\"text-align: right;\">              16</td><td>(&#x27;timm_image&#x27;, _c140</td><td>tf_efficientnet_2fb0</td><td>(2.196517412935_4280</td><td style=\"text-align: right;\">2.09859</td><td>sum</td><td style=\"text-align: right;\">9.35638e-05</td><td>focal_loss</td><td style=\"text-align: right;\"> 5</td><td>adamw</td><td>best</td><td style=\"text-align: right;\">    10</td><td style=\"text-align: right;\">        204.136 </td><td style=\"text-align: right;\">      0.969434</td></tr>\n",
       "<tr><td>18543255    </td><td>TERMINATED</td><td>127.0.0.1:13432</td><td style=\"text-align: right;\">              32</td><td>(&#x27;timm_image&#x27;, _0080</td><td>tf_efficientnet_2fb0</td><td>(2.196517412935_f9a0</td><td style=\"text-align: right;\">2.94916</td><td>sum</td><td style=\"text-align: right;\">0.000211173</td><td>focal_loss</td><td style=\"text-align: right;\"> 8</td><td>adamw</td><td>best</td><td style=\"text-align: right;\">    16</td><td style=\"text-align: right;\">        304.146 </td><td style=\"text-align: right;\">      0.986859</td></tr>\n",
       "<tr><td>b9675523    </td><td>TERMINATED</td><td>127.0.0.1:20592</td><td style=\"text-align: right;\">               8</td><td>(&#x27;timm_image&#x27;, _12c0</td><td>tf_efficientnet_2fb0</td><td>(2.196517412935_fac0</td><td style=\"text-align: right;\">2.51288</td><td>sum</td><td style=\"text-align: right;\">0.000664632</td><td>focal_loss</td><td style=\"text-align: right;\">10</td><td>adamw</td><td>best</td><td style=\"text-align: right;\">     4</td><td style=\"text-align: right;\">        101.818 </td><td style=\"text-align: right;\">      0.873194</td></tr>\n",
       "<tr><td>095e97bf    </td><td>TERMINATED</td><td>127.0.0.1:16612</td><td style=\"text-align: right;\">              64</td><td>(&#x27;timm_image&#x27;, _0540</td><td>tf_efficientnet_2fb0</td><td>(2.196517412935_7880</td><td style=\"text-align: right;\">2.44969</td><td>sum</td><td style=\"text-align: right;\">3.7554e-05 </td><td>focal_loss</td><td style=\"text-align: right;\">13</td><td>adamw</td><td>best</td><td style=\"text-align: right;\">     1</td><td style=\"text-align: right;\">         47.5789</td><td style=\"text-align: right;\">      0.172222</td></tr>\n",
       "<tr><td>e04e35a6    </td><td>TERMINATED</td><td>127.0.0.1:5480 </td><td style=\"text-align: right;\">              16</td><td>(&#x27;timm_image&#x27;, _1a00</td><td>tf_efficientnet_2fb0</td><td>(2.196517412935_4a00</td><td style=\"text-align: right;\">2.14853</td><td>sum</td><td style=\"text-align: right;\">0.000257512</td><td>focal_loss</td><td style=\"text-align: right;\">15</td><td>adamw</td><td>best</td><td style=\"text-align: right;\">     1</td><td style=\"text-align: right;\">         47.9054</td><td style=\"text-align: right;\">      0.45826 </td></tr>\n",
       "<tr><td>e2c4c2af    </td><td>TERMINATED</td><td>127.0.0.1:27964</td><td style=\"text-align: right;\">              64</td><td>(&#x27;timm_image&#x27;, _1e00</td><td>tf_efficientnet_2fb0</td><td>(2.196517412935_f700</td><td style=\"text-align: right;\">2.62577</td><td>sum</td><td style=\"text-align: right;\">0.000262012</td><td>focal_loss</td><td style=\"text-align: right;\">18</td><td>adamw</td><td>best</td><td style=\"text-align: right;\">     1</td><td style=\"text-align: right;\">         47.4737</td><td style=\"text-align: right;\">      0.314663</td></tr>\n",
       "<tr><td>aa43a2fb    </td><td>TERMINATED</td><td>127.0.0.1:36608</td><td style=\"text-align: right;\">               8</td><td>(&#x27;timm_image&#x27;, _1d40</td><td>tf_efficientnet_2fb0</td><td>(2.196517412935_efe0</td><td style=\"text-align: right;\">2.00555</td><td>sum</td><td style=\"text-align: right;\">0.000952288</td><td>focal_loss</td><td style=\"text-align: right;\">14</td><td>adamw</td><td>best</td><td style=\"text-align: right;\">     4</td><td style=\"text-align: right;\">        101.355 </td><td style=\"text-align: right;\">      0.662279</td></tr>\n",
       "<tr><td>6fae969a    </td><td>TERMINATED</td><td>127.0.0.1:13372</td><td style=\"text-align: right;\">             128</td><td>(&#x27;timm_image&#x27;, _2800</td><td>tf_efficientnet_2fb0</td><td>(2.196517412935_f580</td><td style=\"text-align: right;\">2.25188</td><td>sum</td><td style=\"text-align: right;\">0.000339079</td><td>focal_loss</td><td style=\"text-align: right;\"> 6</td><td>adamw</td><td>best</td><td style=\"text-align: right;\">     1</td><td style=\"text-align: right;\">         47.8022</td><td style=\"text-align: right;\">      0.395207</td></tr>\n",
       "<tr><td>871b2fba    </td><td>TERMINATED</td><td>127.0.0.1:32180</td><td style=\"text-align: right;\">              64</td><td>(&#x27;timm_image&#x27;, _2280</td><td>tf_efficientnet_2fb0</td><td>(2.196517412935_eda0</td><td style=\"text-align: right;\">2.4686 </td><td>sum</td><td style=\"text-align: right;\">5.61897e-05</td><td>focal_loss</td><td style=\"text-align: right;\">19</td><td>adamw</td><td>best</td><td style=\"text-align: right;\">     1</td><td style=\"text-align: right;\">         47.8319</td><td style=\"text-align: right;\">      0.172345</td></tr>\n",
       "<tr><td>88ccc1a1    </td><td>TERMINATED</td><td>127.0.0.1:25596</td><td style=\"text-align: right;\">              32</td><td>(&#x27;timm_image&#x27;, _3040</td><td>tf_efficientnet_2fb0</td><td>(2.196517412935_bf40</td><td style=\"text-align: right;\">2.26107</td><td>sum</td><td style=\"text-align: right;\">0.000645907</td><td>focal_loss</td><td style=\"text-align: right;\">14</td><td>adamw</td><td>best</td><td style=\"text-align: right;\">     4</td><td style=\"text-align: right;\">         99.2533</td><td style=\"text-align: right;\">      0.81258 </td></tr>\n",
       "<tr><td>37fa4378    </td><td>TERMINATED</td><td>127.0.0.1:33944</td><td style=\"text-align: right;\">              16</td><td>(&#x27;timm_image&#x27;, _7280</td><td>tf_efficientnet_2fb0</td><td>(2.196517412935_bc40</td><td style=\"text-align: right;\">2.27378</td><td>sum</td><td style=\"text-align: right;\">0.000147904</td><td>focal_loss</td><td style=\"text-align: right;\">17</td><td>adamw</td><td>best</td><td style=\"text-align: right;\">     1</td><td style=\"text-align: right;\">         48.7799</td><td style=\"text-align: right;\">      0.376293</td></tr>\n",
       "<tr><td>9b58b9fa    </td><td>TERMINATED</td><td>127.0.0.1:5236 </td><td style=\"text-align: right;\">               8</td><td>(&#x27;timm_image&#x27;, _8a80</td><td>tf_efficientnet_2fb0</td><td>(2.196517412935_8040</td><td style=\"text-align: right;\">2.46428</td><td>sum</td><td style=\"text-align: right;\">8.8264e-05 </td><td>focal_loss</td><td style=\"text-align: right;\">15</td><td>adamw</td><td>best</td><td style=\"text-align: right;\">     1</td><td style=\"text-align: right;\">         48.3762</td><td style=\"text-align: right;\">      0.37515 </td></tr>\n",
       "<tr><td>036ae5ea    </td><td>TERMINATED</td><td>127.0.0.1:35684</td><td style=\"text-align: right;\">              16</td><td>(&#x27;timm_image&#x27;, _8800</td><td>tf_efficientnet_2fb0</td><td>(2.196517412935_9660</td><td style=\"text-align: right;\">2.57585</td><td>sum</td><td style=\"text-align: right;\">0.000579459</td><td>focal_loss</td><td style=\"text-align: right;\"> 8</td><td>adamw</td><td>best</td><td style=\"text-align: right;\">     4</td><td style=\"text-align: right;\">         99.474 </td><td style=\"text-align: right;\">      0.756984</td></tr>\n",
       "<tr><td>050c8c73    </td><td>TERMINATED</td><td>127.0.0.1:19176</td><td style=\"text-align: right;\">             128</td><td>(&#x27;timm_image&#x27;, _7a80</td><td>tf_efficientnet_2fb0</td><td>(2.196517412935_8580</td><td style=\"text-align: right;\">2.37565</td><td>sum</td><td style=\"text-align: right;\">0.00077545 </td><td>focal_loss</td><td style=\"text-align: right;\">16</td><td>adamw</td><td>best</td><td style=\"text-align: right;\">     1</td><td style=\"text-align: right;\">         47.9499</td><td style=\"text-align: right;\">      0.375277</td></tr>\n",
       "<tr><td>d55f8039    </td><td>TERMINATED</td><td>127.0.0.1:38332</td><td style=\"text-align: right;\">             128</td><td>(&#x27;timm_image&#x27;, _4f80</td><td>tf_efficientnet_2fb0</td><td>(2.196517412935_8220</td><td style=\"text-align: right;\">2.47837</td><td>sum</td><td style=\"text-align: right;\">0.000183429</td><td>focal_loss</td><td style=\"text-align: right;\"> 7</td><td>adamw</td><td>best</td><td style=\"text-align: right;\">     1</td><td style=\"text-align: right;\">         48.4087</td><td style=\"text-align: right;\">      0.296081</td></tr>\n",
       "<tr><td>1efce132    </td><td>TERMINATED</td><td>127.0.0.1:15604</td><td style=\"text-align: right;\">              16</td><td>(&#x27;timm_image&#x27;, _e2c0</td><td>tf_efficientnet_2fb0</td><td>(2.196517412935_0ee0</td><td style=\"text-align: right;\">2.27265</td><td>sum</td><td style=\"text-align: right;\">5.81898e-05</td><td>focal_loss</td><td style=\"text-align: right;\">18</td><td>adamw</td><td>best</td><td style=\"text-align: right;\">     1</td><td style=\"text-align: right;\">         48.5293</td><td style=\"text-align: right;\">      0.239314</td></tr>\n",
       "<tr><td>1022eb56    </td><td>TERMINATED</td><td>127.0.0.1:23772</td><td style=\"text-align: right;\">              32</td><td>(&#x27;timm_image&#x27;, _5580</td><td>tf_efficientnet_2fb0</td><td>(2.196517412935_1c60</td><td style=\"text-align: right;\">2.43124</td><td>sum</td><td style=\"text-align: right;\">5.08766e-05</td><td>focal_loss</td><td style=\"text-align: right;\">12</td><td>adamw</td><td>best</td><td style=\"text-align: right;\">     1</td><td style=\"text-align: right;\">         48.9274</td><td style=\"text-align: right;\">      0.23147 </td></tr>\n",
       "<tr><td>3eadc296    </td><td>TERMINATED</td><td>127.0.0.1:32408</td><td style=\"text-align: right;\">              32</td><td>(&#x27;timm_image&#x27;, _b040</td><td>tf_efficientnet_2fb0</td><td>(2.196517412935_2380</td><td style=\"text-align: right;\">2.66918</td><td>sum</td><td style=\"text-align: right;\">0.000170749</td><td>focal_loss</td><td style=\"text-align: right;\">13</td><td>adamw</td><td>best</td><td style=\"text-align: right;\">     1</td><td style=\"text-align: right;\">         48.2009</td><td style=\"text-align: right;\">      0.366108</td></tr>\n",
       "<tr><td>e2f26d86    </td><td>TERMINATED</td><td>127.0.0.1:11968</td><td style=\"text-align: right;\">             128</td><td>(&#x27;timm_image&#x27;, _cb40</td><td>tf_efficientnet_2fb0</td><td>(2.196517412935_28c0</td><td style=\"text-align: right;\">2.01391</td><td>sum</td><td style=\"text-align: right;\">0.000747583</td><td>focal_loss</td><td style=\"text-align: right;\"> 9</td><td>adamw</td><td>best</td><td style=\"text-align: right;\">     4</td><td style=\"text-align: right;\">         99.68  </td><td style=\"text-align: right;\">      0.810105</td></tr>\n",
       "<tr><td>157a33e8    </td><td>TERMINATED</td><td>127.0.0.1:2960 </td><td style=\"text-align: right;\">             256</td><td>(&#x27;timm_image&#x27;, _a740</td><td>tf_efficientnet_2fb0</td><td>(2.196517412935_3340</td><td style=\"text-align: right;\">2.93715</td><td>sum</td><td style=\"text-align: right;\">1.01498e-05</td><td>focal_loss</td><td style=\"text-align: right;\"> 5</td><td>adamw</td><td>best</td><td style=\"text-align: right;\">     1</td><td style=\"text-align: right;\">         48.1833</td><td style=\"text-align: right;\">      0.153861</td></tr>\n",
       "<tr><td>7821a995    </td><td>TERMINATED</td><td>127.0.0.1:36012</td><td style=\"text-align: right;\">             256</td><td>(&#x27;timm_image&#x27;, _0f40</td><td>tf_efficientnet_2fb0</td><td>(2.196517412935_3880</td><td style=\"text-align: right;\">2.97293</td><td>sum</td><td style=\"text-align: right;\">8.75198e-05</td><td>focal_loss</td><td style=\"text-align: right;\"> 5</td><td>adamw</td><td>best</td><td style=\"text-align: right;\">     1</td><td style=\"text-align: right;\">         48.5589</td><td style=\"text-align: right;\">      0.184263</td></tr>\n",
       "<tr><td>c39ec38e    </td><td>TERMINATED</td><td>127.0.0.1:25036</td><td style=\"text-align: right;\">              32</td><td>(&#x27;timm_image&#x27;, _7000</td><td>tf_efficientnet_2fb0</td><td>(2.196517412935_2920</td><td style=\"text-align: right;\">2.82178</td><td>sum</td><td style=\"text-align: right;\">1.92588e-05</td><td>focal_loss</td><td style=\"text-align: right;\">10</td><td>adamw</td><td>best</td><td style=\"text-align: right;\">     1</td><td style=\"text-align: right;\">         48.9794</td><td style=\"text-align: right;\">      0.167496</td></tr>\n",
       "<tr><td>c37906e9    </td><td>TERMINATED</td><td>127.0.0.1:20496</td><td style=\"text-align: right;\">              16</td><td>(&#x27;timm_image&#x27;, _6780</td><td>tf_efficientnet_2fb0</td><td>(2.196517412935_31c0</td><td style=\"text-align: right;\">2.1053 </td><td>sum</td><td style=\"text-align: right;\">0.000357808</td><td>focal_loss</td><td style=\"text-align: right;\"> 7</td><td>adamw</td><td>best</td><td style=\"text-align: right;\">    14</td><td style=\"text-align: right;\">        279.686 </td><td style=\"text-align: right;\">      0.990693</td></tr>\n",
       "<tr><td>b926a45e    </td><td>TERMINATED</td><td>127.0.0.1:1924 </td><td style=\"text-align: right;\">              32</td><td>(&#x27;timm_image&#x27;, _c640</td><td>tf_efficientnet_2fb0</td><td>(2.196517412935_3e80</td><td style=\"text-align: right;\">2.86648</td><td>sum</td><td style=\"text-align: right;\">0.000119056</td><td>focal_loss</td><td style=\"text-align: right;\">10</td><td>adamw</td><td>best</td><td style=\"text-align: right;\">     1</td><td style=\"text-align: right;\">         48.2435</td><td style=\"text-align: right;\">      0.351454</td></tr>\n",
       "</tbody>\n",
       "</table>\n",
       "  </div>\n",
       "</div>\n",
       "<style>\n",
       ".tuneStatus {\n",
       "  color: var(--jp-ui-font-color1);\n",
       "}\n",
       ".tuneStatus .systemInfo {\n",
       "  display: flex;\n",
       "  flex-direction: column;\n",
       "}\n",
       ".tuneStatus td {\n",
       "  white-space: nowrap;\n",
       "}\n",
       ".tuneStatus .trialStatus {\n",
       "  display: flex;\n",
       "  flex-direction: column;\n",
       "}\n",
       ".tuneStatus h3 {\n",
       "  font-weight: bold;\n",
       "}\n",
       ".tuneStatus .hDivider {\n",
       "  border-bottom-width: var(--jp-border-width);\n",
       "  border-bottom-color: var(--jp-border-color0);\n",
       "  border-bottom-style: solid;\n",
       "}\n",
       ".tuneStatus .vDivider {\n",
       "  border-left-width: var(--jp-border-width);\n",
       "  border-left-color: var(--jp-border-color0);\n",
       "  border-left-style: solid;\n",
       "  margin: 0.5em 1em 0.5em 1em;\n",
       "}\n",
       "</style>\n"
      ],
      "text/plain": [
       "<IPython.core.display.HTML object>"
      ]
     },
     "metadata": {},
     "output_type": "display_data"
    },
    {
     "data": {
      "text/html": [
       "<div class=\"trialProgress\">\n",
       "  <h3>Trial Progress</h3>\n",
       "  <table>\n",
       "<thead>\n",
       "<tr><th>Trial name  </th><th>should_checkpoint  </th><th style=\"text-align: right;\">  val_f1_macro</th></tr>\n",
       "</thead>\n",
       "<tbody>\n",
       "<tr><td>036ae5ea    </td><td>True               </td><td style=\"text-align: right;\">      0.756984</td></tr>\n",
       "<tr><td>050c8c73    </td><td>True               </td><td style=\"text-align: right;\">      0.375277</td></tr>\n",
       "<tr><td>095e97bf    </td><td>True               </td><td style=\"text-align: right;\">      0.172222</td></tr>\n",
       "<tr><td>1022eb56    </td><td>True               </td><td style=\"text-align: right;\">      0.23147 </td></tr>\n",
       "<tr><td>157a33e8    </td><td>True               </td><td style=\"text-align: right;\">      0.153861</td></tr>\n",
       "<tr><td>18543255    </td><td>True               </td><td style=\"text-align: right;\">      0.986859</td></tr>\n",
       "<tr><td>1efce132    </td><td>True               </td><td style=\"text-align: right;\">      0.239314</td></tr>\n",
       "<tr><td>2eb0a1f0    </td><td>True               </td><td style=\"text-align: right;\">      0.969434</td></tr>\n",
       "<tr><td>37fa4378    </td><td>True               </td><td style=\"text-align: right;\">      0.376293</td></tr>\n",
       "<tr><td>3eadc296    </td><td>True               </td><td style=\"text-align: right;\">      0.366108</td></tr>\n",
       "<tr><td>6fae969a    </td><td>True               </td><td style=\"text-align: right;\">      0.395207</td></tr>\n",
       "<tr><td>7821a995    </td><td>True               </td><td style=\"text-align: right;\">      0.184263</td></tr>\n",
       "<tr><td>871b2fba    </td><td>True               </td><td style=\"text-align: right;\">      0.172345</td></tr>\n",
       "<tr><td>88ccc1a1    </td><td>True               </td><td style=\"text-align: right;\">      0.81258 </td></tr>\n",
       "<tr><td>9b58b9fa    </td><td>True               </td><td style=\"text-align: right;\">      0.37515 </td></tr>\n",
       "<tr><td>aa43a2fb    </td><td>True               </td><td style=\"text-align: right;\">      0.662279</td></tr>\n",
       "<tr><td>b926a45e    </td><td>True               </td><td style=\"text-align: right;\">      0.351454</td></tr>\n",
       "<tr><td>b9675523    </td><td>True               </td><td style=\"text-align: right;\">      0.873194</td></tr>\n",
       "<tr><td>c37906e9    </td><td>True               </td><td style=\"text-align: right;\">      0.990693</td></tr>\n",
       "<tr><td>c39ec38e    </td><td>True               </td><td style=\"text-align: right;\">      0.167496</td></tr>\n",
       "<tr><td>d55f8039    </td><td>True               </td><td style=\"text-align: right;\">      0.296081</td></tr>\n",
       "<tr><td>db5d7770    </td><td>True               </td><td style=\"text-align: right;\">      0.904031</td></tr>\n",
       "<tr><td>e04e35a6    </td><td>True               </td><td style=\"text-align: right;\">      0.45826 </td></tr>\n",
       "<tr><td>e2c4c2af    </td><td>True               </td><td style=\"text-align: right;\">      0.314663</td></tr>\n",
       "<tr><td>e2f26d86    </td><td>True               </td><td style=\"text-align: right;\">      0.810105</td></tr>\n",
       "</tbody>\n",
       "</table>\n",
       "</div>\n",
       "<style>\n",
       ".trialProgress {\n",
       "  display: flex;\n",
       "  flex-direction: column;\n",
       "  color: var(--jp-ui-font-color1);\n",
       "}\n",
       ".trialProgress h3 {\n",
       "  font-weight: bold;\n",
       "}\n",
       ".trialProgress td {\n",
       "  white-space: nowrap;\n",
       "}\n",
       "</style>\n"
      ],
      "text/plain": [
       "<IPython.core.display.HTML object>"
      ]
     },
     "metadata": {},
     "output_type": "display_data"
    },
    {
     "name": "stderr",
     "output_type": "stream",
     "text": [
      "Removing non-optimal trials and only keep the best one.\n",
      "e:\\Programs\\miniforge3\\envs\\autogluon_stable_112\\Lib\\site-packages\\autogluon\\multimodal\\utils\\checkpoint.py:64: FutureWarning: You are using `torch.load` with `weights_only=False` (the current default value), which uses the default pickle module implicitly. It is possible to construct malicious pickle data which will execute arbitrary code during unpickling (See https://github.com/pytorch/pytorch/blob/main/SECURITY.md#untrusted-models for more details). In a future release, the default value for `weights_only` will be flipped to `True`. This limits the functions that could be executed during unpickling. Arbitrary objects will no longer be allowed to be loaded via this mode unless they are explicitly allowlisted by the user via `torch.serialization.add_safe_globals`. We recommend you start setting `weights_only=True` for any use case where you don't have full control of the loaded file. Please open an issue on GitHub for any issues related to this experimental feature.\n",
      "  avg_state_dict = torch.load(checkpoint_paths[0], map_location=torch.device(\"cpu\"))[\"state_dict\"]\n",
      "AutoMM has created your model. 🎉🎉🎉\n",
      "\n",
      "To load the model, use the code below:\n",
      "    ```python\n",
      "    from autogluon.multimodal import MultiModalPredictor\n",
      "    predictor = MultiModalPredictor.load(\"e:\\Current_Workdir\\palm-fruit-classification\\autogluon_ver\\model\\master\\train_resnet18_25_trials_2024-12-29_03-18-28\")\n",
      "    ```\n",
      "\n",
      "If you are not satisfied with the model, try to increase the training time, \n",
      "adjust the hyperparameters (https://auto.gluon.ai/stable/tutorials/multimodal/advanced_topics/customization.html),\n",
      "or post issues on GitHub (https://github.com/autogluon/autogluon/issues).\n",
      "\n",
      "\n"
     ]
    },
    {
     "data": {
      "text/plain": [
       "<autogluon.multimodal.predictor.MultiModalPredictor at 0x20aa52525d0>"
      ]
     },
     "execution_count": 47,
     "metadata": {},
     "output_type": "execute_result"
    }
   ],
   "source": [
    "predictor_efficientnetv2.fit(\n",
    "        train_data=train_df,\n",
    "        hyperparameters=hyperparameters_efficientnetv2,\n",
    "        hyperparameter_tune_kwargs=hyperparameter_tune_kwargs,\n",
    "        # time_limit = 3600\n",
    ")"
   ]
  },
  {
   "cell_type": "markdown",
   "metadata": {},
   "source": [
    "## Evaluate on Test Dataset"
   ]
  },
  {
   "cell_type": "code",
   "execution_count": 48,
   "metadata": {},
   "outputs": [
    {
     "name": "stderr",
     "output_type": "stream",
     "text": [
      "e:\\Programs\\miniforge3\\envs\\autogluon_stable_112\\Lib\\site-packages\\lightning\\pytorch\\plugins\\precision\\amp.py:52: `torch.cuda.amp.GradScaler(args...)` is deprecated. Please use `torch.amp.GradScaler('cuda', args...)` instead.\n"
     ]
    },
    {
     "name": "stdout",
     "output_type": "stream",
     "text": [
      "Predicting DataLoader 0: 100%|██████████| 12/12 [00:01<00:00,  9.44it/s]\n"
     ]
    },
    {
     "data": {
      "text/plain": [
       "{'f1_macro': 0.878706151794059,\n",
       " 'f1_micro': 0.8891820580474934,\n",
       " 'accuracy': 0.8891820580474934,\n",
       " 'recall_macro': 0.8822799181494835,\n",
       " 'precision_macro': 0.8789420438584741}"
      ]
     },
     "execution_count": 48,
     "metadata": {},
     "output_type": "execute_result"
    }
   ],
   "source": [
    "scores_efficientnetv2 = predictor_efficientnetv2.evaluate(test_df, metrics=[\"f1_macro\", \"f1_micro\", \"accuracy\", \"recall_macro\", \"precision_macro\"])\n",
    "scores_efficientnetv2"
   ]
  },
  {
   "cell_type": "code",
   "execution_count": 49,
   "metadata": {},
   "outputs": [
    {
     "name": "stderr",
     "output_type": "stream",
     "text": [
      "e:\\Programs\\miniforge3\\envs\\autogluon_stable_112\\Lib\\site-packages\\lightning\\pytorch\\plugins\\precision\\amp.py:52: `torch.cuda.amp.GradScaler(args...)` is deprecated. Please use `torch.amp.GradScaler('cuda', args...)` instead.\n"
     ]
    },
    {
     "name": "stdout",
     "output_type": "stream",
     "text": [
      "Predicting DataLoader 0: 100%|██████████| 12/12 [00:01<00:00,  9.36it/s]\n"
     ]
    }
   ],
   "source": [
    "preds_efficientnetv2 = predictor_efficientnetv2.predict(test_df)"
   ]
  },
  {
   "cell_type": "code",
   "execution_count": 50,
   "metadata": {},
   "outputs": [],
   "source": [
    "true_labels = test_df['label_text']"
   ]
  },
  {
   "cell_type": "markdown",
   "metadata": {},
   "source": [
    "# Classification Report"
   ]
  },
  {
   "cell_type": "code",
   "execution_count": 51,
   "metadata": {},
   "outputs": [],
   "source": [
    "cr = classification_report(true_labels, preds_efficientnetv2)"
   ]
  },
  {
   "cell_type": "code",
   "execution_count": 52,
   "metadata": {},
   "outputs": [
    {
     "name": "stdout",
     "output_type": "stream",
     "text": [
      "              precision    recall  f1-score   support\n",
      "\n",
      " empty_bunch       0.81      0.91      0.86        23\n",
      "    overripe       0.92      0.83      0.87        54\n",
      "        ripe       0.91      0.89      0.90       154\n",
      "      rotten       0.86      0.75      0.80         8\n",
      "   underripe       0.87      0.91      0.89       130\n",
      "      unripe       0.91      1.00      0.95        10\n",
      "\n",
      "    accuracy                           0.89       379\n",
      "   macro avg       0.88      0.88      0.88       379\n",
      "weighted avg       0.89      0.89      0.89       379\n",
      "\n"
     ]
    }
   ],
   "source": [
    "print(cr)"
   ]
  },
  {
   "cell_type": "code",
   "execution_count": 53,
   "metadata": {},
   "outputs": [],
   "source": [
    "cm = confusion_matrix(true_labels, preds_efficientnetv2)"
   ]
  },
  {
   "cell_type": "code",
   "execution_count": 54,
   "metadata": {},
   "outputs": [
    {
     "data": {
      "text/plain": [
       "array([[ 21,   1,   0,   1,   0,   0],\n",
       "       [  5,  45,   2,   0,   2,   0],\n",
       "       [  0,   3, 137,   0,  13,   1],\n",
       "       [  0,   0,   0,   6,   2,   0],\n",
       "       [  0,   0,  12,   0, 118,   0],\n",
       "       [  0,   0,   0,   0,   0,  10]], dtype=int64)"
      ]
     },
     "execution_count": 54,
     "metadata": {},
     "output_type": "execute_result"
    }
   ],
   "source": [
    "cm"
   ]
  },
  {
   "cell_type": "markdown",
   "metadata": {},
   "source": [
    "Accuracy per Class"
   ]
  },
  {
   "cell_type": "code",
   "execution_count": 55,
   "metadata": {},
   "outputs": [
    {
     "data": {
      "text/plain": [
       "array([0.91304348, 0.83333333, 0.88961039, 0.75      , 0.90769231,\n",
       "       1.        ])"
      ]
     },
     "execution_count": 55,
     "metadata": {},
     "output_type": "execute_result"
    }
   ],
   "source": [
    "cm.diagonal()/cm.sum(axis=1)"
   ]
  },
  {
   "cell_type": "code",
   "execution_count": 56,
   "metadata": {},
   "outputs": [
    {
     "data": {
      "image/png": "[encoded data removed]",
      "text/plain": [
       "<Figure size 640x480 with 2 Axes>"
      ]
     },
     "metadata": {},
     "output_type": "display_data"
    }
   ],
   "source": [
    "disp = ConfusionMatrixDisplay(confusion_matrix=cm, display_labels=predictor_efficientnetv2.class_labels)\n",
    "disp.plot(cmap=plt.cm.Blues)\n",
    "plt.show()"
   ]
  },
  {
   "cell_type": "markdown",
   "metadata": {},
   "source": [
    "## Save Raw TIMM Format"
   ]
  },
  {
   "cell_type": "code",
   "execution_count": 57,
   "metadata": {},
   "outputs": [
    {
     "name": "stderr",
     "output_type": "stream",
     "text": [
      "Model timm_image weights saved to ../../model/master/train_resnet18_25_trials_2024-12-29_03-18-28/timm\\timm_image/pytorch_model.bin.\n",
      "Timm config saved to ../../model/master/train_resnet18_25_trials_2024-12-29_03-18-28/timm\\timm_image/config.json.\n"
     ]
    },
    {
     "data": {
      "text/plain": [
       "'../../model/master/train_resnet18_25_trials_2024-12-29_03-18-28/timm'"
      ]
     },
     "execution_count": 57,
     "metadata": {},
     "output_type": "execute_result"
    }
   ],
   "source": [
    "predictor_efficientnetv2.dump_model(model_path_efficientnetv2 + \"/timm\")"
   ]
  }
 ],
 "metadata": {
  "kernelspec": {
   "display_name": "autogluon_stable_112",
   "language": "python",
   "name": "python3"
  },
  "language_info": {
   "codemirror_mode": {
    "name": "ipython",
    "version": 3
   },
   "file_extension": ".py",
   "mimetype": "text/x-python",
   "name": "python",
   "nbconvert_exporter": "python",
   "pygments_lexer": "ipython3",
   "version": "3.11.10"
  }
 },
 "nbformat": 4,
 "nbformat_minor": 2
}
