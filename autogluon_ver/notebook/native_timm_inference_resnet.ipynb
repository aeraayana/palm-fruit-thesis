{
 "cells": [
  {
   "cell_type": "markdown",
   "metadata": {},
   "source": [
    "# Native TIMM Inference"
   ]
  },
  {
   "cell_type": "code",
   "execution_count": null,
   "metadata": {},
   "outputs": [],
   "source": [
    "# Path to your checkpoint file\n",
    "checkpoint_path = \"../model/train_ResNet18_2024-12-04_18-54-29/timm/timm_image/pytorch_model.bin\"\n",
    "image_path = \"e:\\\\Current_Workdir\\\\palm-fruit-classification\\\\data\\\\intermediate\\\\valid\\\\empty_bunch\\\\IMG_20220803_112710_crop_0_jpg.rf.bfef2ca25d24fefe9a8c64c68c5bb66f.jpg\"\n",
    "\n",
    "# Configuration from your JSON\n",
    "config = {\n",
    "    \"architecture\": \"resnet18\",  # ResNet-18 architecture\n",
    "    \"num_classes\": 6,            # Number of classes in your custom dataset\n",
    "    \"num_features\": 512,         # Features size for ResNet-18\n",
    "    \"pretrained_cfg\": {\n",
    "        \"tag\": \"a1_in1k\",               # Pretraining tag (using ImageNet weights)\n",
    "        \"custom_load\": False,\n",
    "        \"input_size\": [3, 224, 224],    # Input size for training\n",
    "        \"test_input_size\": [3, 288, 288],  # Test input size (larger than training)\n",
    "        \"fixed_input_size\": False,\n",
    "        \"interpolation\": \"bicubic\",      # Interpolation method\n",
    "        \"crop_pct\": 0.95,                # Crop percentage for training\n",
    "        \"test_crop_pct\": 1.0,            # Crop percentage for testing\n",
    "        \"crop_mode\": \"center\",           # Center crop\n",
    "        \"mean\": [0.485, 0.456, 0.406],   # Mean for ImageNet normalization\n",
    "        \"std\": [0.229, 0.224, 0.225],    # Standard deviation for ImageNet normalization\n",
    "        \"num_classes\": 1000,             # Default number of classes for ImageNet\n",
    "        \"pool_size\": [7, 7],             # Pooling size after convolution\n",
    "        \"first_conv\": \"conv1\",           # First convolutional layer\n",
    "        \"classifier\": \"fc\",              # Final classifier layer\n",
    "        \"origin_url\": \"https://github.com/huggingface/pytorch-image-models\",\n",
    "        \"paper_ids\": \"arXiv:2110.00476\"\n",
    "    }\n",
    "}"
   ]
  },
  {
   "cell_type": "code",
   "execution_count": 11,
   "metadata": {},
   "outputs": [
    {
     "name": "stdout",
     "output_type": "stream",
     "text": [
      "Predictions: tensor([[0.1811, 0.2997, 0.0941, 0.2725, 0.0779, 0.0748]])\n"
     ]
    },
    {
     "name": "stderr",
     "output_type": "stream",
     "text": [
      "C:\\Users\\comp4\\AppData\\Local\\Temp\\ipykernel_33976\\1951863778.py:15: FutureWarning: You are using `torch.load` with `weights_only=False` (the current default value), which uses the default pickle module implicitly. It is possible to construct malicious pickle data which will execute arbitrary code during unpickling (See https://github.com/pytorch/pytorch/blob/main/SECURITY.md#untrusted-models for more details). In a future release, the default value for `weights_only` will be flipped to `True`. This limits the functions that could be executed during unpickling. Arbitrary objects will no longer be allowed to be loaded via this mode unless they are explicitly allowlisted by the user via `torch.serialization.add_safe_globals`. We recommend you start setting `weights_only=True` for any use case where you don't have full control of the loaded file. Please open an issue on GitHub for any issues related to this experimental feature.\n",
      "  checkpoint = torch.load(checkpoint_path, map_location=torch.device(\"cpu\"))  # Adjust map_location as needed\n"
     ]
    }
   ],
   "source": [
    "import timm\n",
    "import torch\n",
    "from torchvision import transforms\n",
    "from PIL import Image\n",
    "\n",
    "# Instantiate the model\n",
    "model = timm.create_model(\n",
    "    config[\"architecture\"],  # ResNet-18 model\n",
    "    pretrained=False,        # Skip loading pretrained weights from timm\n",
    "    num_classes=config[\"num_classes\"],  # Adjust final layer for 6 classes\n",
    "    global_pool=\"avg\",       # Set global pooling (default is \"avg\" for ResNet)\n",
    ")\n",
    "\n",
    "# Load the checkpoint\n",
    "checkpoint = torch.load(checkpoint_path, map_location=torch.device(\"cpu\"))  # Adjust map_location as needed\n",
    "if \"state_dict\" in checkpoint:\n",
    "    state_dict = checkpoint[\"state_dict\"]  # For structured checkpoint files\n",
    "else:\n",
    "    state_dict = checkpoint\n",
    "\n",
    "# Strip prefixes if necessary (e.g., 'module.' when using DataParallel)\n",
    "state_dict = {k.replace(\"module.\", \"\"): v for k, v in state_dict.items()}\n",
    "\n",
    "# Load weights into the model\n",
    "model.load_state_dict(state_dict, strict=False)  # Use strict=True for strict matching\n",
    "\n",
    "# Example preprocessing pipeline\n",
    "input_size = config[\"pretrained_cfg\"][\"input_size\"][1:]  # (224, 224) for training\n",
    "mean = config[\"pretrained_cfg\"][\"mean\"]\n",
    "std = config[\"pretrained_cfg\"][\"std\"]\n",
    "\n",
    "transform = transforms.Compose([\n",
    "    transforms.Resize(input_size, interpolation=transforms.InterpolationMode.BICUBIC),  # Resize the image to 224x224\n",
    "    transforms.CenterCrop(int(input_size[0] * config[\"pretrained_cfg\"][\"crop_pct\"])),   # Apply center crop\n",
    "    transforms.ToTensor(),                                                              # Convert image to tensor\n",
    "    transforms.Normalize(mean=mean, std=std),                                            # Normalize using ImageNet mean and std\n",
    "])\n",
    "\n",
    "# Example image (replace with your own image file path)\n",
    "image = Image.open(image_path).convert(\"RGB\")\n",
    "image_tensor = transform(image).unsqueeze(0)  # Add batch dimension\n",
    "\n",
    "# Inference\n",
    "model.eval()  # Set model to evaluation mode\n",
    "with torch.no_grad():\n",
    "    outputs = model(image_tensor)  # Forward pass\n",
    "    predictions = torch.softmax(outputs, dim=1)  # Convert logits to probabilities\n",
    "\n",
    "print(\"Predictions:\", predictions)\n"
   ]
  }
 ],
 "metadata": {
  "kernelspec": {
   "display_name": "autogluon_stable_112",
   "language": "python",
   "name": "python3"
  },
  "language_info": {
   "codemirror_mode": {
    "name": "ipython",
    "version": 3
   },
   "file_extension": ".py",
   "mimetype": "text/x-python",
   "name": "python",
   "nbconvert_exporter": "python",
   "pygments_lexer": "ipython3",
   "version": "3.11.10"
  }
 },
 "nbformat": 4,
 "nbformat_minor": 2
}
