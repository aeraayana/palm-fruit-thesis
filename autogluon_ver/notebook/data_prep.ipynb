{
 "cells": [
  {
   "cell_type": "markdown",
   "metadata": {},
   "source": [
    "# Data Preparation"
   ]
  },
  {
   "cell_type": "markdown",
   "metadata": {},
   "source": [
    "## Library imports"
   ]
  },
  {
   "cell_type": "code",
   "execution_count": 8,
   "metadata": {},
   "outputs": [],
   "source": [
    "import zipfile\n",
    "import pandas as pd\n",
    "import os"
   ]
  },
  {
   "cell_type": "markdown",
   "metadata": {},
   "source": [
    "## Functions to extract and convert dataset"
   ]
  },
  {
   "cell_type": "code",
   "execution_count": 2,
   "metadata": {},
   "outputs": [],
   "source": [
    "def unzip(filepath, extract_to):\n",
    "    if not zipfile.is_zipfile(filepath):\n",
    "        print(\"filepath error\")\n",
    "        return\n",
    "    with zipfile.ZipFile(filepath, 'r') as zipped:\n",
    "        zipped.extractall(extract_to)\n",
    "\n",
    "def convert_folder_to_autogluon_format(path):\n",
    "    columns = [\"image\", \"label_text\"]\n",
    "    df = pd.DataFrame(columns=columns)\n",
    "    for root, dirs, files in os.walk(path):\n",
    "        for file in files:\n",
    "            file_paths = os.path.abspath(os.path.join(root, file))\n",
    "            label_text = os.path.basename(os.path.dirname(file_paths))\n",
    "            new_row = {\"image\": file_paths, \"label_text\": label_text}\n",
    "            df.loc[len(df)] = new_row\n",
    "    return df"
   ]
  },
  {
   "cell_type": "code",
   "execution_count": 3,
   "metadata": {},
   "outputs": [],
   "source": [
    "filepath=\"../../data/raw/ImageClassificationReducedClass.v1i.folder.zip\"\n",
    "extract_to=\"../../data/intermediate\"\n",
    "\n",
    "unzip(filepath, extract_to)"
   ]
  },
  {
   "cell_type": "code",
   "execution_count": 9,
   "metadata": {},
   "outputs": [
    {
     "data": {
      "text/html": [
       "<div>\n",
       "<style scoped>\n",
       "    .dataframe tbody tr th:only-of-type {\n",
       "        vertical-align: middle;\n",
       "    }\n",
       "\n",
       "    .dataframe tbody tr th {\n",
       "        vertical-align: top;\n",
       "    }\n",
       "\n",
       "    .dataframe thead th {\n",
       "        text-align: right;\n",
       "    }\n",
       "</style>\n",
       "<table border=\"1\" class=\"dataframe\">\n",
       "  <thead>\n",
       "    <tr style=\"text-align: right;\">\n",
       "      <th></th>\n",
       "      <th>image</th>\n",
       "      <th>label_text</th>\n",
       "    </tr>\n",
       "  </thead>\n",
       "  <tbody>\n",
       "    <tr>\n",
       "      <th>0</th>\n",
       "      <td>e:\\Current_Workdir\\palm-fruit-classification\\d...</td>\n",
       "      <td>empty_bunch</td>\n",
       "    </tr>\n",
       "    <tr>\n",
       "      <th>1</th>\n",
       "      <td>e:\\Current_Workdir\\palm-fruit-classification\\d...</td>\n",
       "      <td>empty_bunch</td>\n",
       "    </tr>\n",
       "    <tr>\n",
       "      <th>2</th>\n",
       "      <td>e:\\Current_Workdir\\palm-fruit-classification\\d...</td>\n",
       "      <td>empty_bunch</td>\n",
       "    </tr>\n",
       "    <tr>\n",
       "      <th>3</th>\n",
       "      <td>e:\\Current_Workdir\\palm-fruit-classification\\d...</td>\n",
       "      <td>empty_bunch</td>\n",
       "    </tr>\n",
       "    <tr>\n",
       "      <th>4</th>\n",
       "      <td>e:\\Current_Workdir\\palm-fruit-classification\\d...</td>\n",
       "      <td>empty_bunch</td>\n",
       "    </tr>\n",
       "    <tr>\n",
       "      <th>...</th>\n",
       "      <td>...</td>\n",
       "      <td>...</td>\n",
       "    </tr>\n",
       "    <tr>\n",
       "      <th>2644</th>\n",
       "      <td>e:\\Current_Workdir\\palm-fruit-classification\\d...</td>\n",
       "      <td>unripe</td>\n",
       "    </tr>\n",
       "    <tr>\n",
       "      <th>2645</th>\n",
       "      <td>e:\\Current_Workdir\\palm-fruit-classification\\d...</td>\n",
       "      <td>unripe</td>\n",
       "    </tr>\n",
       "    <tr>\n",
       "      <th>2646</th>\n",
       "      <td>e:\\Current_Workdir\\palm-fruit-classification\\d...</td>\n",
       "      <td>unripe</td>\n",
       "    </tr>\n",
       "    <tr>\n",
       "      <th>2647</th>\n",
       "      <td>e:\\Current_Workdir\\palm-fruit-classification\\d...</td>\n",
       "      <td>unripe</td>\n",
       "    </tr>\n",
       "    <tr>\n",
       "      <th>2648</th>\n",
       "      <td>e:\\Current_Workdir\\palm-fruit-classification\\d...</td>\n",
       "      <td>unripe</td>\n",
       "    </tr>\n",
       "  </tbody>\n",
       "</table>\n",
       "<p>2649 rows × 2 columns</p>\n",
       "</div>"
      ],
      "text/plain": [
       "                                                  image   label_text\n",
       "0     e:\\Current_Workdir\\palm-fruit-classification\\d...  empty_bunch\n",
       "1     e:\\Current_Workdir\\palm-fruit-classification\\d...  empty_bunch\n",
       "2     e:\\Current_Workdir\\palm-fruit-classification\\d...  empty_bunch\n",
       "3     e:\\Current_Workdir\\palm-fruit-classification\\d...  empty_bunch\n",
       "4     e:\\Current_Workdir\\palm-fruit-classification\\d...  empty_bunch\n",
       "...                                                 ...          ...\n",
       "2644  e:\\Current_Workdir\\palm-fruit-classification\\d...       unripe\n",
       "2645  e:\\Current_Workdir\\palm-fruit-classification\\d...       unripe\n",
       "2646  e:\\Current_Workdir\\palm-fruit-classification\\d...       unripe\n",
       "2647  e:\\Current_Workdir\\palm-fruit-classification\\d...       unripe\n",
       "2648  e:\\Current_Workdir\\palm-fruit-classification\\d...       unripe\n",
       "\n",
       "[2649 rows x 2 columns]"
      ]
     },
     "execution_count": 9,
     "metadata": {},
     "output_type": "execute_result"
    }
   ],
   "source": [
    "train_filepath = \"../../data/intermediate/train\"\n",
    "train_df = convert_folder_to_autogluon_format(train_filepath)\n",
    "train_df"
   ]
  },
  {
   "cell_type": "code",
   "execution_count": 10,
   "metadata": {},
   "outputs": [
    {
     "data": {
      "text/html": [
       "<div>\n",
       "<style scoped>\n",
       "    .dataframe tbody tr th:only-of-type {\n",
       "        vertical-align: middle;\n",
       "    }\n",
       "\n",
       "    .dataframe tbody tr th {\n",
       "        vertical-align: top;\n",
       "    }\n",
       "\n",
       "    .dataframe thead th {\n",
       "        text-align: right;\n",
       "    }\n",
       "</style>\n",
       "<table border=\"1\" class=\"dataframe\">\n",
       "  <thead>\n",
       "    <tr style=\"text-align: right;\">\n",
       "      <th></th>\n",
       "      <th>image</th>\n",
       "      <th>label_text</th>\n",
       "    </tr>\n",
       "  </thead>\n",
       "  <tbody>\n",
       "    <tr>\n",
       "      <th>0</th>\n",
       "      <td>e:\\Current_Workdir\\palm-fruit-classification\\d...</td>\n",
       "      <td>empty_bunch</td>\n",
       "    </tr>\n",
       "    <tr>\n",
       "      <th>1</th>\n",
       "      <td>e:\\Current_Workdir\\palm-fruit-classification\\d...</td>\n",
       "      <td>empty_bunch</td>\n",
       "    </tr>\n",
       "    <tr>\n",
       "      <th>2</th>\n",
       "      <td>e:\\Current_Workdir\\palm-fruit-classification\\d...</td>\n",
       "      <td>empty_bunch</td>\n",
       "    </tr>\n",
       "    <tr>\n",
       "      <th>3</th>\n",
       "      <td>e:\\Current_Workdir\\palm-fruit-classification\\d...</td>\n",
       "      <td>empty_bunch</td>\n",
       "    </tr>\n",
       "    <tr>\n",
       "      <th>4</th>\n",
       "      <td>e:\\Current_Workdir\\palm-fruit-classification\\d...</td>\n",
       "      <td>empty_bunch</td>\n",
       "    </tr>\n",
       "    <tr>\n",
       "      <th>...</th>\n",
       "      <td>...</td>\n",
       "      <td>...</td>\n",
       "    </tr>\n",
       "    <tr>\n",
       "      <th>374</th>\n",
       "      <td>e:\\Current_Workdir\\palm-fruit-classification\\d...</td>\n",
       "      <td>unripe</td>\n",
       "    </tr>\n",
       "    <tr>\n",
       "      <th>375</th>\n",
       "      <td>e:\\Current_Workdir\\palm-fruit-classification\\d...</td>\n",
       "      <td>unripe</td>\n",
       "    </tr>\n",
       "    <tr>\n",
       "      <th>376</th>\n",
       "      <td>e:\\Current_Workdir\\palm-fruit-classification\\d...</td>\n",
       "      <td>unripe</td>\n",
       "    </tr>\n",
       "    <tr>\n",
       "      <th>377</th>\n",
       "      <td>e:\\Current_Workdir\\palm-fruit-classification\\d...</td>\n",
       "      <td>unripe</td>\n",
       "    </tr>\n",
       "    <tr>\n",
       "      <th>378</th>\n",
       "      <td>e:\\Current_Workdir\\palm-fruit-classification\\d...</td>\n",
       "      <td>unripe</td>\n",
       "    </tr>\n",
       "  </tbody>\n",
       "</table>\n",
       "<p>379 rows × 2 columns</p>\n",
       "</div>"
      ],
      "text/plain": [
       "                                                 image   label_text\n",
       "0    e:\\Current_Workdir\\palm-fruit-classification\\d...  empty_bunch\n",
       "1    e:\\Current_Workdir\\palm-fruit-classification\\d...  empty_bunch\n",
       "2    e:\\Current_Workdir\\palm-fruit-classification\\d...  empty_bunch\n",
       "3    e:\\Current_Workdir\\palm-fruit-classification\\d...  empty_bunch\n",
       "4    e:\\Current_Workdir\\palm-fruit-classification\\d...  empty_bunch\n",
       "..                                                 ...          ...\n",
       "374  e:\\Current_Workdir\\palm-fruit-classification\\d...       unripe\n",
       "375  e:\\Current_Workdir\\palm-fruit-classification\\d...       unripe\n",
       "376  e:\\Current_Workdir\\palm-fruit-classification\\d...       unripe\n",
       "377  e:\\Current_Workdir\\palm-fruit-classification\\d...       unripe\n",
       "378  e:\\Current_Workdir\\palm-fruit-classification\\d...       unripe\n",
       "\n",
       "[379 rows x 2 columns]"
      ]
     },
     "execution_count": 10,
     "metadata": {},
     "output_type": "execute_result"
    }
   ],
   "source": [
    "test_filepath = \"../../data/intermediate/valid\"\n",
    "test_df = convert_folder_to_autogluon_format(test_filepath)\n",
    "test_df"
   ]
  },
  {
   "cell_type": "markdown",
   "metadata": {},
   "source": [
    "## Save data in autogluon format"
   ]
  },
  {
   "cell_type": "code",
   "execution_count": 11,
   "metadata": {},
   "outputs": [],
   "source": [
    "train_df.to_csv(\"../../data/clean/train_df.csv\", index=False)\n",
    "test_df.to_csv(\"../../data/clean/test_df.csv\", index=False)"
   ]
  }
 ],
 "metadata": {
  "kernelspec": {
   "display_name": "autogluon_112",
   "language": "python",
   "name": "python3"
  },
  "language_info": {
   "codemirror_mode": {
    "name": "ipython",
    "version": 3
   },
   "file_extension": ".py",
   "mimetype": "text/x-python",
   "name": "python",
   "nbconvert_exporter": "python",
   "pygments_lexer": "ipython3",
   "version": "3.10.15"
  }
 },
 "nbformat": 4,
 "nbformat_minor": 2
}
