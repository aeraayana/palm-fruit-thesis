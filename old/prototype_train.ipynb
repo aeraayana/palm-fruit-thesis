{
 "cells": [
  {
   "cell_type": "markdown",
   "metadata": {},
   "source": [
    "# Prototype Training Script to Fine-Tune EfficientNet for Palm Oil Fruit Classificaton"
   ]
  },
  {
   "cell_type": "code",
   "execution_count": 22,
   "metadata": {},
   "outputs": [],
   "source": [
    "from autogluon.multimodal import MultiModalPredictor\n",
    "from autogluon.multimodal.presets import get_automm_presets\n",
    "from IPython.display import Image, display\n",
    "from ray import tune\n",
    "from sklearn.utils.class_weight import compute_class_weight\n",
    "from sklearn.metrics import confusion_matrix, ConfusionMatrixDisplay\n",
    "import matplotlib.pyplot as plt\n",
    "import pandas as pd\n",
    "import numpy as np\n",
    "import json\n",
    "import yaml\n",
    "import uuid\n",
    "import zipfile\n",
    "import os\n",
    "import datetime\n",
    "import torch\n",
    "import onnx\n",
    "import onnxruntime"
   ]
  },
  {
   "cell_type": "code",
   "execution_count": 2,
   "metadata": {},
   "outputs": [],
   "source": [
    "torch.set_float32_matmul_precision(\"high\")"
   ]
  },
  {
   "cell_type": "code",
   "execution_count": 3,
   "metadata": {},
   "outputs": [],
   "source": [
    "def unzip(filepath, extract_to):\n",
    "    if not zipfile.is_zipfile(filepath):\n",
    "        print(\"filepath error\")\n",
    "        return\n",
    "    with zipfile.ZipFile(filepath, 'r') as zipped:\n",
    "        zipped.extractall(extract_to)"
   ]
  },
  {
   "cell_type": "code",
   "execution_count": 4,
   "metadata": {},
   "outputs": [],
   "source": [
    "filepath=\"data/raw/ImageClassificationReducedClass.v1i.folder.zip\"\n",
    "extract_to=\"data/intermediate\"\n",
    "\n",
    "unzip(filepath, extract_to)"
   ]
  },
  {
   "cell_type": "code",
   "execution_count": 5,
   "metadata": {},
   "outputs": [],
   "source": [
    "def convert_folder_to_autogluon_format(path):\n",
    "    columns = [\"image\", \"label_text\"]\n",
    "    df = pd.DataFrame(columns=columns)\n",
    "    for root, dirs, files in os.walk(path):\n",
    "        for file in files:\n",
    "            file_paths = os.path.abspath(os.path.join(root, file))\n",
    "            label_text = os.path.basename(os.path.dirname(file_paths))\n",
    "            new_row = {\"image\": file_paths, \"label_text\": label_text}\n",
    "            df.loc[len(df)] = new_row\n",
    "    return df"
   ]
  },
  {
   "cell_type": "code",
   "execution_count": 6,
   "metadata": {},
   "outputs": [
    {
     "data": {
      "text/html": [
       "<div>\n",
       "<style scoped>\n",
       "    .dataframe tbody tr th:only-of-type {\n",
       "        vertical-align: middle;\n",
       "    }\n",
       "\n",
       "    .dataframe tbody tr th {\n",
       "        vertical-align: top;\n",
       "    }\n",
       "\n",
       "    .dataframe thead th {\n",
       "        text-align: right;\n",
       "    }\n",
       "</style>\n",
       "<table border=\"1\" class=\"dataframe\">\n",
       "  <thead>\n",
       "    <tr style=\"text-align: right;\">\n",
       "      <th></th>\n",
       "      <th>image</th>\n",
       "      <th>label_text</th>\n",
       "    </tr>\n",
       "  </thead>\n",
       "  <tbody>\n",
       "    <tr>\n",
       "      <th>0</th>\n",
       "      <td>e:\\Current_Workdir\\palm-fruit-classification\\d...</td>\n",
       "      <td>empty_bunch</td>\n",
       "    </tr>\n",
       "    <tr>\n",
       "      <th>1</th>\n",
       "      <td>e:\\Current_Workdir\\palm-fruit-classification\\d...</td>\n",
       "      <td>empty_bunch</td>\n",
       "    </tr>\n",
       "    <tr>\n",
       "      <th>2</th>\n",
       "      <td>e:\\Current_Workdir\\palm-fruit-classification\\d...</td>\n",
       "      <td>empty_bunch</td>\n",
       "    </tr>\n",
       "    <tr>\n",
       "      <th>3</th>\n",
       "      <td>e:\\Current_Workdir\\palm-fruit-classification\\d...</td>\n",
       "      <td>empty_bunch</td>\n",
       "    </tr>\n",
       "    <tr>\n",
       "      <th>4</th>\n",
       "      <td>e:\\Current_Workdir\\palm-fruit-classification\\d...</td>\n",
       "      <td>empty_bunch</td>\n",
       "    </tr>\n",
       "    <tr>\n",
       "      <th>...</th>\n",
       "      <td>...</td>\n",
       "      <td>...</td>\n",
       "    </tr>\n",
       "    <tr>\n",
       "      <th>2644</th>\n",
       "      <td>e:\\Current_Workdir\\palm-fruit-classification\\d...</td>\n",
       "      <td>unripe</td>\n",
       "    </tr>\n",
       "    <tr>\n",
       "      <th>2645</th>\n",
       "      <td>e:\\Current_Workdir\\palm-fruit-classification\\d...</td>\n",
       "      <td>unripe</td>\n",
       "    </tr>\n",
       "    <tr>\n",
       "      <th>2646</th>\n",
       "      <td>e:\\Current_Workdir\\palm-fruit-classification\\d...</td>\n",
       "      <td>unripe</td>\n",
       "    </tr>\n",
       "    <tr>\n",
       "      <th>2647</th>\n",
       "      <td>e:\\Current_Workdir\\palm-fruit-classification\\d...</td>\n",
       "      <td>unripe</td>\n",
       "    </tr>\n",
       "    <tr>\n",
       "      <th>2648</th>\n",
       "      <td>e:\\Current_Workdir\\palm-fruit-classification\\d...</td>\n",
       "      <td>unripe</td>\n",
       "    </tr>\n",
       "  </tbody>\n",
       "</table>\n",
       "<p>2649 rows × 2 columns</p>\n",
       "</div>"
      ],
      "text/plain": [
       "                                                  image   label_text\n",
       "0     e:\\Current_Workdir\\palm-fruit-classification\\d...  empty_bunch\n",
       "1     e:\\Current_Workdir\\palm-fruit-classification\\d...  empty_bunch\n",
       "2     e:\\Current_Workdir\\palm-fruit-classification\\d...  empty_bunch\n",
       "3     e:\\Current_Workdir\\palm-fruit-classification\\d...  empty_bunch\n",
       "4     e:\\Current_Workdir\\palm-fruit-classification\\d...  empty_bunch\n",
       "...                                                 ...          ...\n",
       "2644  e:\\Current_Workdir\\palm-fruit-classification\\d...       unripe\n",
       "2645  e:\\Current_Workdir\\palm-fruit-classification\\d...       unripe\n",
       "2646  e:\\Current_Workdir\\palm-fruit-classification\\d...       unripe\n",
       "2647  e:\\Current_Workdir\\palm-fruit-classification\\d...       unripe\n",
       "2648  e:\\Current_Workdir\\palm-fruit-classification\\d...       unripe\n",
       "\n",
       "[2649 rows x 2 columns]"
      ]
     },
     "execution_count": 6,
     "metadata": {},
     "output_type": "execute_result"
    }
   ],
   "source": [
    "train_filepath = \"data/intermediate/train\"\n",
    "train_df = convert_folder_to_autogluon_format(train_filepath)\n",
    "train_df"
   ]
  },
  {
   "cell_type": "code",
   "execution_count": 7,
   "metadata": {},
   "outputs": [
    {
     "data": {
      "text/html": [
       "<div>\n",
       "<style scoped>\n",
       "    .dataframe tbody tr th:only-of-type {\n",
       "        vertical-align: middle;\n",
       "    }\n",
       "\n",
       "    .dataframe tbody tr th {\n",
       "        vertical-align: top;\n",
       "    }\n",
       "\n",
       "    .dataframe thead th {\n",
       "        text-align: right;\n",
       "    }\n",
       "</style>\n",
       "<table border=\"1\" class=\"dataframe\">\n",
       "  <thead>\n",
       "    <tr style=\"text-align: right;\">\n",
       "      <th></th>\n",
       "      <th>image</th>\n",
       "      <th>label_text</th>\n",
       "    </tr>\n",
       "  </thead>\n",
       "  <tbody>\n",
       "    <tr>\n",
       "      <th>0</th>\n",
       "      <td>e:\\Current_Workdir\\palm-fruit-classification\\d...</td>\n",
       "      <td>empty_bunch</td>\n",
       "    </tr>\n",
       "    <tr>\n",
       "      <th>1</th>\n",
       "      <td>e:\\Current_Workdir\\palm-fruit-classification\\d...</td>\n",
       "      <td>empty_bunch</td>\n",
       "    </tr>\n",
       "    <tr>\n",
       "      <th>2</th>\n",
       "      <td>e:\\Current_Workdir\\palm-fruit-classification\\d...</td>\n",
       "      <td>empty_bunch</td>\n",
       "    </tr>\n",
       "    <tr>\n",
       "      <th>3</th>\n",
       "      <td>e:\\Current_Workdir\\palm-fruit-classification\\d...</td>\n",
       "      <td>empty_bunch</td>\n",
       "    </tr>\n",
       "    <tr>\n",
       "      <th>4</th>\n",
       "      <td>e:\\Current_Workdir\\palm-fruit-classification\\d...</td>\n",
       "      <td>empty_bunch</td>\n",
       "    </tr>\n",
       "    <tr>\n",
       "      <th>...</th>\n",
       "      <td>...</td>\n",
       "      <td>...</td>\n",
       "    </tr>\n",
       "    <tr>\n",
       "      <th>374</th>\n",
       "      <td>e:\\Current_Workdir\\palm-fruit-classification\\d...</td>\n",
       "      <td>unripe</td>\n",
       "    </tr>\n",
       "    <tr>\n",
       "      <th>375</th>\n",
       "      <td>e:\\Current_Workdir\\palm-fruit-classification\\d...</td>\n",
       "      <td>unripe</td>\n",
       "    </tr>\n",
       "    <tr>\n",
       "      <th>376</th>\n",
       "      <td>e:\\Current_Workdir\\palm-fruit-classification\\d...</td>\n",
       "      <td>unripe</td>\n",
       "    </tr>\n",
       "    <tr>\n",
       "      <th>377</th>\n",
       "      <td>e:\\Current_Workdir\\palm-fruit-classification\\d...</td>\n",
       "      <td>unripe</td>\n",
       "    </tr>\n",
       "    <tr>\n",
       "      <th>378</th>\n",
       "      <td>e:\\Current_Workdir\\palm-fruit-classification\\d...</td>\n",
       "      <td>unripe</td>\n",
       "    </tr>\n",
       "  </tbody>\n",
       "</table>\n",
       "<p>379 rows × 2 columns</p>\n",
       "</div>"
      ],
      "text/plain": [
       "                                                 image   label_text\n",
       "0    e:\\Current_Workdir\\palm-fruit-classification\\d...  empty_bunch\n",
       "1    e:\\Current_Workdir\\palm-fruit-classification\\d...  empty_bunch\n",
       "2    e:\\Current_Workdir\\palm-fruit-classification\\d...  empty_bunch\n",
       "3    e:\\Current_Workdir\\palm-fruit-classification\\d...  empty_bunch\n",
       "4    e:\\Current_Workdir\\palm-fruit-classification\\d...  empty_bunch\n",
       "..                                                 ...          ...\n",
       "374  e:\\Current_Workdir\\palm-fruit-classification\\d...       unripe\n",
       "375  e:\\Current_Workdir\\palm-fruit-classification\\d...       unripe\n",
       "376  e:\\Current_Workdir\\palm-fruit-classification\\d...       unripe\n",
       "377  e:\\Current_Workdir\\palm-fruit-classification\\d...       unripe\n",
       "378  e:\\Current_Workdir\\palm-fruit-classification\\d...       unripe\n",
       "\n",
       "[379 rows x 2 columns]"
      ]
     },
     "execution_count": 7,
     "metadata": {},
     "output_type": "execute_result"
    }
   ],
   "source": [
    "test_filepath = \"data/intermediate/valid\"\n",
    "test_df = convert_folder_to_autogluon_format(test_filepath)\n",
    "test_df"
   ]
  },
  {
   "cell_type": "code",
   "execution_count": 8,
   "metadata": {},
   "outputs": [],
   "source": [
    "train_df.to_csv(\"data/clean/train_df.csv\", index=False)\n",
    "test_df.to_csv(\"data/clean/test_df.csv\", index=False)"
   ]
  },
  {
   "cell_type": "code",
   "execution_count": null,
   "metadata": {},
   "outputs": [],
   "source": [
    "now = datetime.datetime.now()\n",
    "timestamp_str = now.strftime(\"%Y-%m-%d_%H-%M-%S\")\n",
    "model_path = \"model/\" + f\"train_{timestamp_str}\""
   ]
  },
  {
   "cell_type": "code",
   "execution_count": null,
   "metadata": {},
   "outputs": [],
   "source": [
    "predictor = MultiModalPredictor(label=\"label_text\", path=model_path, problem_type='multiclass', eval_metric=\"f1_macro\")"
   ]
  },
  {
   "cell_type": "code",
   "execution_count": null,
   "metadata": {},
   "outputs": [],
   "source": [
    "np.unique(train_df[\"label_text\"])"
   ]
  },
  {
   "cell_type": "code",
   "execution_count": null,
   "metadata": {},
   "outputs": [],
   "source": [
    "class_weights = compute_class_weight(class_weight=\"balanced\", classes=np.unique(train_df[\"label_text\"]), y=train_df[\"label_text\"])\n",
    "class_weights"
   ]
  },
  {
   "cell_type": "code",
   "execution_count": null,
   "metadata": {},
   "outputs": [],
   "source": [
    "class_weights_list = class_weights.tolist()\n",
    "class_weights_list"
   ]
  },
  {
   "cell_type": "code",
   "execution_count": null,
   "metadata": {},
   "outputs": [],
   "source": [
    "hyperparameters = {\n",
    "    \"optimization.learning_rate\": tune.loguniform(0.00005, 0.001),\n",
    "    \"optimization.max_epochs\":tune.randint(5,20),\n",
    "    \"env.batch_size\": tune.qlograndint(8,128,2),\n",
    "    \"optimization.loss_function\": \"focal_loss\",\n",
    "    \"optimization.focal_loss.alpha\": class_weights_list,\n",
    "    \"optimization.focal_loss.gamma\": tune.uniform(0, 1),\n",
    "    \"optimization.focal_loss.reduction\": \"sum\",\n",
    "    \"model.timm_image.checkpoint_name\": tune.choice([\"efficientnet_b0.ra_in1k\"]),\n",
    "    \"optimization.optim_type\": \"adamw\"\n",
    "}"
   ]
  },
  {
   "cell_type": "code",
   "execution_count": null,
   "metadata": {},
   "outputs": [],
   "source": [
    "hyperparameter_tune_kwargs = {\n",
    "    \"searcher\": \"bayes\",\n",
    "    \"scheduler\": \"ASHA\",\n",
    "    # \"num_trials\": 2\n",
    "}"
   ]
  },
  {
   "cell_type": "code",
   "execution_count": null,
   "metadata": {},
   "outputs": [],
   "source": [
    "predictor.fit(\n",
    "        train_data=train_df,\n",
    "        hyperparameters=hyperparameters,\n",
    "        hyperparameter_tune_kwargs=hyperparameter_tune_kwargs,\n",
    "        time_limit = 3600\n",
    "    )"
   ]
  },
  {
   "cell_type": "code",
   "execution_count": 13,
   "metadata": {},
   "outputs": [
    {
     "name": "stderr",
     "output_type": "stream",
     "text": [
      "Load pretrained checkpoint: e:\\Current_Workdir\\palm-fruit-classification\\model\\train_2024-10-08_18-03-14\\model.ckpt\n"
     ]
    }
   ],
   "source": [
    "predictor = MultiModalPredictor.load(\"e:/Current_Workdir/palm-fruit-classification/model/train_2024-10-08_18-03-14\")"
   ]
  },
  {
   "cell_type": "code",
   "execution_count": null,
   "metadata": {},
   "outputs": [],
   "source": [
    "predictor.fit_summary()"
   ]
  },
  {
   "cell_type": "code",
   "execution_count": null,
   "metadata": {},
   "outputs": [],
   "source": [
    "scores = predictor.evaluate(test_df, metrics=[\"f1_macro\", \"f1_micro\", \"accuracy\", \"recall_macro\", \"precision_macro\"])\n",
    "scores"
   ]
  },
  {
   "cell_type": "code",
   "execution_count": null,
   "metadata": {},
   "outputs": [],
   "source": [
    "preds = predictor.predict(test_df)"
   ]
  },
  {
   "cell_type": "code",
   "execution_count": null,
   "metadata": {},
   "outputs": [],
   "source": [
    "true_labels = test_df['label_text']"
   ]
  },
  {
   "cell_type": "code",
   "execution_count": null,
   "metadata": {},
   "outputs": [],
   "source": [
    "cm = confusion_matrix(true_labels, preds)"
   ]
  },
  {
   "cell_type": "code",
   "execution_count": null,
   "metadata": {},
   "outputs": [],
   "source": [
    "disp = ConfusionMatrixDisplay(confusion_matrix=cm, display_labels=predictor.class_labels)\n",
    "disp.plot(cmap=plt.cm.Blues)\n",
    "plt.show()"
   ]
  },
  {
   "cell_type": "code",
   "execution_count": 10,
   "metadata": {},
   "outputs": [
    {
     "data": {
      "image/jpeg": "[encoded data removed]",
      "text/plain": [
       "<IPython.core.display.Image object>"
      ]
     },
     "metadata": {},
     "output_type": "display_data"
    }
   ],
   "source": [
    "image_path = test_df.iloc[0]['image']\n",
    "pil_img = Image(filename=image_path)\n",
    "display(pil_img)"
   ]
  },
  {
   "cell_type": "code",
   "execution_count": 11,
   "metadata": {},
   "outputs": [
    {
     "data": {
      "text/plain": [
       "'e:\\\\Current_Workdir\\\\palm-fruit-classification\\\\data\\\\intermediate\\\\valid\\\\empty_bunch\\\\IMG_20220803_112710_crop_0_jpg.rf.bfef2ca25d24fefe9a8c64c68c5bb66f.jpg'"
      ]
     },
     "execution_count": 11,
     "metadata": {},
     "output_type": "execute_result"
    }
   ],
   "source": [
    "image_path"
   ]
  },
  {
   "cell_type": "code",
   "execution_count": 14,
   "metadata": {},
   "outputs": [
    {
     "name": "stdout",
     "output_type": "stream",
     "text": [
      "Predicting DataLoader 0: 100%|██████████| 1/1 [00:00<00:00,  3.29it/s]\n"
     ]
    },
    {
     "data": {
      "text/plain": [
       "array(['overripe'], dtype=object)"
      ]
     },
     "execution_count": 14,
     "metadata": {},
     "output_type": "execute_result"
    }
   ],
   "source": [
    "predictions = predictor.predict({'image': [image_path]})\n",
    "predictions"
   ]
  },
  {
   "cell_type": "code",
   "execution_count": 15,
   "metadata": {},
   "outputs": [
    {
     "name": "stdout",
     "output_type": "stream",
     "text": [
      "Predicting DataLoader 0: 100%|██████████| 1/1 [00:00<00:00, 41.38it/s]\n",
      "[[1.7925164e-04 9.9974495e-01 1.2928008e-05 1.6278818e-05 4.6521458e-05\n",
      "  1.4056458e-07]]\n"
     ]
    }
   ],
   "source": [
    "proba = predictor.predict_proba({'image': [image_path]})\n",
    "print(proba)"
   ]
  },
  {
   "cell_type": "code",
   "execution_count": 16,
   "metadata": {},
   "outputs": [
    {
     "name": "stdout",
     "output_type": "stream",
     "text": [
      "Predicting DataLoader 0: 100%|██████████| 1/1 [00:00<00:00, 38.22it/s]\n",
      "(1280,)\n"
     ]
    }
   ],
   "source": [
    "feature = predictor.extract_embedding({'image': [image_path]})\n",
    "print(feature[0].shape)"
   ]
  },
  {
   "cell_type": "code",
   "execution_count": 17,
   "metadata": {},
   "outputs": [
    {
     "name": "stderr",
     "output_type": "stream",
     "text": [
      "Model timm_image weights saved to ./timm\\timm_image/pytorch_model.bin.\n",
      "Timm config saved to ./timm\\timm_image/config.json.\n"
     ]
    },
    {
     "data": {
      "text/plain": [
       "'./timm'"
      ]
     },
     "execution_count": 17,
     "metadata": {},
     "output_type": "execute_result"
    }
   ],
   "source": [
    "predictor.dump_model(\"./timm\")"
   ]
  },
  {
   "cell_type": "code",
   "execution_count": 24,
   "metadata": {},
   "outputs": [
    {
     "ename": "NotImplementedError",
     "evalue": "export_onnx doesn't support model type <class 'autogluon.multimodal.utils.onnx.OnnxModule'>",
     "output_type": "error",
     "traceback": [
      "\u001b[1;31m---------------------------------------------------------------------------\u001b[0m",
      "\u001b[1;31mNotImplementedError\u001b[0m                       Traceback (most recent call last)",
      "Cell \u001b[1;32mIn[24], line 1\u001b[0m\n\u001b[1;32m----> 1\u001b[0m onnx_pred \u001b[38;5;241m=\u001b[39m \u001b[43mpredictor\u001b[49m\u001b[38;5;241;43m.\u001b[39;49m\u001b[43moptimize_for_inference\u001b[49m\u001b[43m(\u001b[49m\u001b[43m)\u001b[49m\n",
      "File \u001b[1;32me:\\Programs\\miniforge3\\envs\\autogluon_112\\lib\\site-packages\\autogluon\\multimodal\\predictor.py:911\u001b[0m, in \u001b[0;36mMultiModalPredictor.optimize_for_inference\u001b[1;34m(self, providers)\u001b[0m\n\u001b[0;32m    886\u001b[0m \u001b[38;5;28;01mdef\u001b[39;00m \u001b[38;5;21moptimize_for_inference\u001b[39m(\n\u001b[0;32m    887\u001b[0m     \u001b[38;5;28mself\u001b[39m,\n\u001b[0;32m    888\u001b[0m     providers: Optional[Union[\u001b[38;5;28mdict\u001b[39m, List[\u001b[38;5;28mstr\u001b[39m]]] \u001b[38;5;241m=\u001b[39m \u001b[38;5;28;01mNone\u001b[39;00m,\n\u001b[0;32m    889\u001b[0m ):\n\u001b[0;32m    890\u001b[0m \u001b[38;5;250m    \u001b[39m\u001b[38;5;124;03m\"\"\"\u001b[39;00m\n\u001b[0;32m    891\u001b[0m \u001b[38;5;124;03m    Optimize the predictor's model for inference.\u001b[39;00m\n\u001b[0;32m    892\u001b[0m \n\u001b[1;32m   (...)\u001b[0m\n\u001b[0;32m    909\u001b[0m \u001b[38;5;124;03m        The onnx-based module that can be used to replace predictor._model for model inference.\u001b[39;00m\n\u001b[0;32m    910\u001b[0m \u001b[38;5;124;03m    \"\"\"\u001b[39;00m\n\u001b[1;32m--> 911\u001b[0m     \u001b[38;5;28;01mreturn\u001b[39;00m \u001b[38;5;28;43mself\u001b[39;49m\u001b[38;5;241;43m.\u001b[39;49m\u001b[43m_learner\u001b[49m\u001b[38;5;241;43m.\u001b[39;49m\u001b[43moptimize_for_inference\u001b[49m\u001b[43m(\u001b[49m\u001b[43mproviders\u001b[49m\u001b[38;5;241;43m=\u001b[39;49m\u001b[43mproviders\u001b[49m\u001b[43m)\u001b[49m\n",
      "File \u001b[1;32me:\\Programs\\miniforge3\\envs\\autogluon_112\\lib\\site-packages\\autogluon\\multimodal\\utils\\export.py:199\u001b[0m, in \u001b[0;36mExportMixin.optimize_for_inference\u001b[1;34m(self, providers)\u001b[0m\n\u001b[0;32m    196\u001b[0m data \u001b[38;5;241m=\u001b[39m pd\u001b[38;5;241m.\u001b[39mDataFrame\u001b[38;5;241m.\u001b[39mfrom_dict(data_dict)\n\u001b[0;32m    198\u001b[0m onnx_module \u001b[38;5;241m=\u001b[39m \u001b[38;5;28;01mNone\u001b[39;00m\n\u001b[1;32m--> 199\u001b[0m onnx_path \u001b[38;5;241m=\u001b[39m \u001b[38;5;28;43mself\u001b[39;49m\u001b[38;5;241;43m.\u001b[39;49m\u001b[43mexport_onnx\u001b[49m\u001b[43m(\u001b[49m\u001b[43mdata\u001b[49m\u001b[38;5;241;43m=\u001b[39;49m\u001b[43mdata\u001b[49m\u001b[43m,\u001b[49m\u001b[43m \u001b[49m\u001b[43mtruncate_long_and_double\u001b[49m\u001b[38;5;241;43m=\u001b[39;49m\u001b[38;5;28;43;01mTrue\u001b[39;49;00m\u001b[43m)\u001b[49m\n\u001b[0;32m    201\u001b[0m onnx_module \u001b[38;5;241m=\u001b[39m OnnxModule(onnx_path, providers)\n\u001b[0;32m    202\u001b[0m onnx_module\u001b[38;5;241m.\u001b[39minput_keys \u001b[38;5;241m=\u001b[39m \u001b[38;5;28mself\u001b[39m\u001b[38;5;241m.\u001b[39m_model\u001b[38;5;241m.\u001b[39minput_keys\n",
      "File \u001b[1;32me:\\Programs\\miniforge3\\envs\\autogluon_112\\lib\\site-packages\\autogluon\\multimodal\\utils\\export.py:118\u001b[0m, in \u001b[0;36mExportMixin.export_onnx\u001b[1;34m(self, data, path, batch_size, verbose, opset_version, truncate_long_and_double)\u001b[0m\n\u001b[0;32m    116\u001b[0m supported_models \u001b[38;5;241m=\u001b[39m (TimmAutoModelForImagePrediction, HFAutoModelForTextPrediction, MultimodalFusionMLP)\n\u001b[0;32m    117\u001b[0m \u001b[38;5;28;01mif\u001b[39;00m \u001b[38;5;129;01mnot\u001b[39;00m \u001b[38;5;28misinstance\u001b[39m(\u001b[38;5;28mself\u001b[39m\u001b[38;5;241m.\u001b[39m_model, supported_models):\n\u001b[1;32m--> 118\u001b[0m     \u001b[38;5;28;01mraise\u001b[39;00m \u001b[38;5;167;01mNotImplementedError\u001b[39;00m(\u001b[38;5;124mf\u001b[39m\u001b[38;5;124m\"\u001b[39m\u001b[38;5;124mexport_onnx doesn\u001b[39m\u001b[38;5;124m'\u001b[39m\u001b[38;5;124mt support model type \u001b[39m\u001b[38;5;132;01m{\u001b[39;00m\u001b[38;5;28mtype\u001b[39m(\u001b[38;5;28mself\u001b[39m\u001b[38;5;241m.\u001b[39m_model)\u001b[38;5;132;01m}\u001b[39;00m\u001b[38;5;124m\"\u001b[39m)\n\u001b[0;32m    119\u001b[0m warnings\u001b[38;5;241m.\u001b[39mwarn(\u001b[38;5;124m\"\u001b[39m\u001b[38;5;124mCurrently, the functionality of exporting to ONNX is experimental.\u001b[39m\u001b[38;5;124m\"\u001b[39m)\n\u001b[0;32m    121\u001b[0m \u001b[38;5;66;03m# Data preprocessing, loading, and filtering\u001b[39;00m\n",
      "\u001b[1;31mNotImplementedError\u001b[0m: export_onnx doesn't support model type <class 'autogluon.multimodal.utils.onnx.OnnxModule'>"
     ]
    }
   ],
   "source": [
    "predictor.optimize_for_inference()"
   ]
  },
  {
   "cell_type": "code",
   "execution_count": 28,
   "metadata": {},
   "outputs": [
    {
     "ename": "AttributeError",
     "evalue": "'OnnxModule' object has no attribute 'state_dict'",
     "output_type": "error",
     "traceback": [
      "\u001b[1;31m---------------------------------------------------------------------------\u001b[0m",
      "\u001b[1;31mAttributeError\u001b[0m                            Traceback (most recent call last)",
      "Cell \u001b[1;32mIn[28], line 1\u001b[0m\n\u001b[1;32m----> 1\u001b[0m \u001b[43mpredictor\u001b[49m\u001b[38;5;241;43m.\u001b[39;49m\u001b[43msave\u001b[49m\u001b[43m(\u001b[49m\u001b[38;5;124;43m\"\u001b[39;49m\u001b[38;5;124;43m/onnx\u001b[39;49m\u001b[38;5;124;43m\"\u001b[39;49m\u001b[43m,\u001b[49m\u001b[43m \u001b[49m\u001b[43mstandalone\u001b[49m\u001b[38;5;241;43m=\u001b[39;49m\u001b[38;5;28;43;01mTrue\u001b[39;49;00m\u001b[43m)\u001b[49m\n",
      "File \u001b[1;32me:\\Programs\\miniforge3\\envs\\autogluon_112\\lib\\site-packages\\autogluon\\multimodal\\predictor.py:758\u001b[0m, in \u001b[0;36mMultiModalPredictor.save\u001b[1;34m(self, path, standalone)\u001b[0m\n\u001b[0;32m    744\u001b[0m \u001b[38;5;28;01mdef\u001b[39;00m \u001b[38;5;21msave\u001b[39m(\u001b[38;5;28mself\u001b[39m, path: \u001b[38;5;28mstr\u001b[39m, standalone: Optional[\u001b[38;5;28mbool\u001b[39m] \u001b[38;5;241m=\u001b[39m \u001b[38;5;28;01mTrue\u001b[39;00m):\n\u001b[0;32m    745\u001b[0m \u001b[38;5;250m    \u001b[39m\u001b[38;5;124;03m\"\"\"\u001b[39;00m\n\u001b[0;32m    746\u001b[0m \u001b[38;5;124;03m    Save this predictor to file in directory specified by `path`.\u001b[39;00m\n\u001b[0;32m    747\u001b[0m \n\u001b[1;32m   (...)\u001b[0m\n\u001b[0;32m    756\u001b[0m \u001b[38;5;124;03m        When standalone = False, the saved artifact may require an online environment to process in load().\u001b[39;00m\n\u001b[0;32m    757\u001b[0m \u001b[38;5;124;03m    \"\"\"\u001b[39;00m\n\u001b[1;32m--> 758\u001b[0m     \u001b[38;5;28;43mself\u001b[39;49m\u001b[38;5;241;43m.\u001b[39;49m\u001b[43m_learner\u001b[49m\u001b[38;5;241;43m.\u001b[39;49m\u001b[43msave\u001b[49m\u001b[43m(\u001b[49m\u001b[43mpath\u001b[49m\u001b[38;5;241;43m=\u001b[39;49m\u001b[43mpath\u001b[49m\u001b[43m,\u001b[49m\u001b[43m \u001b[49m\u001b[43mstandalone\u001b[49m\u001b[38;5;241;43m=\u001b[39;49m\u001b[43mstandalone\u001b[49m\u001b[43m)\u001b[49m\n",
      "File \u001b[1;32me:\\Programs\\miniforge3\\envs\\autogluon_112\\lib\\site-packages\\autogluon\\multimodal\\learners\\base.py:2218\u001b[0m, in \u001b[0;36mBaseLearner.save\u001b[1;34m(self, path, standalone, config, model, df_preprocessor, data_processors, fit_called, save_model)\u001b[0m\n\u001b[0;32m   2194\u001b[0m     json\u001b[38;5;241m.\u001b[39mdump(\n\u001b[0;32m   2195\u001b[0m         {\n\u001b[0;32m   2196\u001b[0m             \u001b[38;5;124m\"\u001b[39m\u001b[38;5;124mclass_name\u001b[39m\u001b[38;5;124m\"\u001b[39m: \u001b[38;5;28mself\u001b[39m\u001b[38;5;241m.\u001b[39m\u001b[38;5;18m__class__\u001b[39m\u001b[38;5;241m.\u001b[39m\u001b[38;5;18m__name__\u001b[39m,\n\u001b[1;32m   (...)\u001b[0m\n\u001b[0;32m   2214\u001b[0m         ensure_ascii\u001b[38;5;241m=\u001b[39m\u001b[38;5;28;01mTrue\u001b[39;00m,\n\u001b[0;32m   2215\u001b[0m     )\n\u001b[0;32m   2217\u001b[0m \u001b[38;5;28;01mif\u001b[39;00m save_model:\n\u001b[1;32m-> 2218\u001b[0m     checkpoint \u001b[38;5;241m=\u001b[39m {\u001b[38;5;124m\"\u001b[39m\u001b[38;5;124mstate_dict\u001b[39m\u001b[38;5;124m\"\u001b[39m: {\u001b[38;5;124m\"\u001b[39m\u001b[38;5;124mmodel.\u001b[39m\u001b[38;5;124m\"\u001b[39m \u001b[38;5;241m+\u001b[39m name: param \u001b[38;5;28;01mfor\u001b[39;00m name, param \u001b[38;5;129;01min\u001b[39;00m \u001b[43mmodel\u001b[49m\u001b[38;5;241;43m.\u001b[39;49m\u001b[43mstate_dict\u001b[49m()\u001b[38;5;241m.\u001b[39mitems()}}\n\u001b[0;32m   2219\u001b[0m     torch\u001b[38;5;241m.\u001b[39msave(checkpoint, os\u001b[38;5;241m.\u001b[39mpath\u001b[38;5;241m.\u001b[39mjoin(os\u001b[38;5;241m.\u001b[39mpath\u001b[38;5;241m.\u001b[39mabspath(path), MODEL_CHECKPOINT))\n",
      "\u001b[1;31mAttributeError\u001b[0m: 'OnnxModule' object has no attribute 'state_dict'"
     ]
    }
   ],
   "source": [
    "predictor.save(\"/onnx\", standalone=True)"
   ]
  },
  {
   "cell_type": "code",
   "execution_count": 29,
   "metadata": {},
   "outputs": [
    {
     "name": "stdout",
     "output_type": "stream",
     "text": [
      "Predicting DataLoader 0: 100%|██████████| 1/1 [00:06<00:00,  0.16it/s]\n"
     ]
    },
    {
     "data": {
      "text/plain": [
       "array(['overripe'], dtype=object)"
      ]
     },
     "execution_count": 29,
     "metadata": {},
     "output_type": "execute_result"
    }
   ],
   "source": [
    "predictions_onnx = predictor.predict({'image': [image_path]})\n",
    "predictions_onnx"
   ]
  },
  {
   "cell_type": "markdown",
   "metadata": {},
   "source": [
    "## Trying out TIMM Inference"
   ]
  },
  {
   "cell_type": "code",
   "execution_count": null,
   "metadata": {},
   "outputs": [],
   "source": [
    "import torch\n",
    "import timm\n",
    "from torchvision import transforms\n",
    "from PIL import Image\n",
    "\n",
    "# Load a pretrained EfficientNet model from TIMM\n",
    "model = timm.create_model('efficientnet_b0.ra_in1k', pretrained=False)\n",
    "model.load_state_dict(torch.load('E:/Current_Workdir/palm-fruit-classification/model/train_2024-10-08_18-03-14/deployment/timm_image/pytorch_model.bin'))\n",
    "model.eval()\n",
    "\n",
    "# Load and preprocess an image\n",
    "img = Image.open(image_path)\n",
    "preprocess = transforms.Compose([\n",
    "    transforms.Resize(224),\n",
    "    transforms.ToTensor(),\n",
    "    transforms.Normalize(mean=[0.485, 0.456, 0.406], std=[0.229, 0.224, 0.225]),  # ImageNet normalization\n",
    "])\n",
    "img_tensor = preprocess(img).unsqueeze(0)  # Add batch dimension\n",
    "\n",
    "# Inference\n",
    "with torch.no_grad():\n",
    "    output = model(img_tensor)\n",
    "\n",
    "# Post-process the output (e.g., for classification tasks)\n",
    "# Here we're assuming a classification task and output contains logits\n",
    "_, predicted_class = output.max(1)\n",
    "print(f\"Predicted class: {predicted_class.item()}\")"
   ]
  },
  {
   "cell_type": "code",
   "execution_count": null,
   "metadata": {},
   "outputs": [],
   "source": [
    "import torch\n",
    "import timm\n",
    "\n",
    "# Paths to your config.json and pytorch_model.bin\n",
    "config_path = 'E:/Current_Workdir/palm-fruit-classification/model/train_2024-10-08_18-03-14/deployment/timm_image/config.json'  # This typically contains model-specific hyperparameters\n",
    "model_path = 'E:/Current_Workdir/palm-fruit-classification/model/train_2024-10-08_18-03-14/deployment/timm_image/pytorch_model.bin'\n",
    "\n",
    "# Load the model configuration (optional, for advanced customization)\n",
    "# 'config.json' may not be directly required unless you need to load specific settings\n",
    "# You can manually specify the model architecture type from the config\n",
    "# For example, if your model is a ResNet, you'd specify that.\n",
    "\n",
    "# Load the model architecture (change 'resnet50' to the appropriate model name)\n",
    "model = timm.create_model('efficientnet_b0.ra_in1k', pretrained=False)  # Change to the correct model type\n",
    "\n",
    "# Load the model weights\n",
    "model.load_state_dict(torch.load(model_path))\n",
    "\n",
    "# Ensure the model is in evaluation mode\n",
    "model.eval()\n",
    "\n",
    "# Example of using the model for inference (adjust input as needed)\n",
    "dummy_input = torch.randn(1, 3, 224, 224)  # Example input for an image model like ResNet\n",
    "output = model(dummy_input)\n",
    "\n",
    "print(output)"
   ]
  },
  {
   "cell_type": "code",
   "execution_count": null,
   "metadata": {},
   "outputs": [],
   "source": [
    "import timm\n",
    "model = timm.create_model('efficientnet_b0.ra_in1k', checkpoint_path='E:/Current_Workdir/palm-fruit-classification/timm/timm_image/pytorch_model.bin')"
   ]
  },
  {
   "cell_type": "code",
   "execution_count": 21,
   "metadata": {},
   "outputs": [
    {
     "ename": "RuntimeError",
     "evalue": "Error(s) in loading state_dict for EfficientNet:\n\tMissing key(s) in state_dict: \"classifier.weight\", \"classifier.bias\". ",
     "output_type": "error",
     "traceback": [
      "\u001b[1;31m---------------------------------------------------------------------------\u001b[0m",
      "\u001b[1;31mRuntimeError\u001b[0m                              Traceback (most recent call last)",
      "Cell \u001b[1;32mIn[21], line 11\u001b[0m\n\u001b[0;32m      8\u001b[0m model_weights \u001b[38;5;241m=\u001b[39m torch\u001b[38;5;241m.\u001b[39mload(\u001b[38;5;124m\"\u001b[39m\u001b[38;5;124mtimm/timm_image/pytorch_model.bin\u001b[39m\u001b[38;5;124m\"\u001b[39m)\n\u001b[0;32m     10\u001b[0m \u001b[38;5;66;03m# Load the weights into the TIMM model\u001b[39;00m\n\u001b[1;32m---> 11\u001b[0m \u001b[43mmodel\u001b[49m\u001b[38;5;241;43m.\u001b[39;49m\u001b[43mload_state_dict\u001b[49m\u001b[43m(\u001b[49m\u001b[43mmodel_weights\u001b[49m\u001b[43m)\u001b[49m\n",
      "File \u001b[1;32me:\\Programs\\miniforge3\\envs\\autogluon_112\\lib\\site-packages\\torch\\nn\\modules\\module.py:2189\u001b[0m, in \u001b[0;36mModule.load_state_dict\u001b[1;34m(self, state_dict, strict, assign)\u001b[0m\n\u001b[0;32m   2184\u001b[0m         error_msgs\u001b[38;5;241m.\u001b[39minsert(\n\u001b[0;32m   2185\u001b[0m             \u001b[38;5;241m0\u001b[39m, \u001b[38;5;124m'\u001b[39m\u001b[38;5;124mMissing key(s) in state_dict: \u001b[39m\u001b[38;5;132;01m{}\u001b[39;00m\u001b[38;5;124m. \u001b[39m\u001b[38;5;124m'\u001b[39m\u001b[38;5;241m.\u001b[39mformat(\n\u001b[0;32m   2186\u001b[0m                 \u001b[38;5;124m'\u001b[39m\u001b[38;5;124m, \u001b[39m\u001b[38;5;124m'\u001b[39m\u001b[38;5;241m.\u001b[39mjoin(\u001b[38;5;124mf\u001b[39m\u001b[38;5;124m'\u001b[39m\u001b[38;5;124m\"\u001b[39m\u001b[38;5;132;01m{\u001b[39;00mk\u001b[38;5;132;01m}\u001b[39;00m\u001b[38;5;124m\"\u001b[39m\u001b[38;5;124m'\u001b[39m \u001b[38;5;28;01mfor\u001b[39;00m k \u001b[38;5;129;01min\u001b[39;00m missing_keys)))\n\u001b[0;32m   2188\u001b[0m \u001b[38;5;28;01mif\u001b[39;00m \u001b[38;5;28mlen\u001b[39m(error_msgs) \u001b[38;5;241m>\u001b[39m \u001b[38;5;241m0\u001b[39m:\n\u001b[1;32m-> 2189\u001b[0m     \u001b[38;5;28;01mraise\u001b[39;00m \u001b[38;5;167;01mRuntimeError\u001b[39;00m(\u001b[38;5;124m'\u001b[39m\u001b[38;5;124mError(s) in loading state_dict for \u001b[39m\u001b[38;5;132;01m{}\u001b[39;00m\u001b[38;5;124m:\u001b[39m\u001b[38;5;130;01m\\n\u001b[39;00m\u001b[38;5;130;01m\\t\u001b[39;00m\u001b[38;5;132;01m{}\u001b[39;00m\u001b[38;5;124m'\u001b[39m\u001b[38;5;241m.\u001b[39mformat(\n\u001b[0;32m   2190\u001b[0m                        \u001b[38;5;28mself\u001b[39m\u001b[38;5;241m.\u001b[39m\u001b[38;5;18m__class__\u001b[39m\u001b[38;5;241m.\u001b[39m\u001b[38;5;18m__name__\u001b[39m, \u001b[38;5;124m\"\u001b[39m\u001b[38;5;130;01m\\n\u001b[39;00m\u001b[38;5;130;01m\\t\u001b[39;00m\u001b[38;5;124m\"\u001b[39m\u001b[38;5;241m.\u001b[39mjoin(error_msgs)))\n\u001b[0;32m   2191\u001b[0m \u001b[38;5;28;01mreturn\u001b[39;00m _IncompatibleKeys(missing_keys, unexpected_keys)\n",
      "\u001b[1;31mRuntimeError\u001b[0m: Error(s) in loading state_dict for EfficientNet:\n\tMissing key(s) in state_dict: \"classifier.weight\", \"classifier.bias\". "
     ]
    }
   ],
   "source": [
    "import timm\n",
    "import torch\n",
    "\n",
    "# Define the model architecture that matches AutoGluon’s model\n",
    "model = timm.create_model('efficientnet_b0', pretrained=False)  # Replace with appropriate model name\n",
    "\n",
    "# Load the weights from the AutoGluon model\n",
    "model_weights = torch.load(\"timm/timm_image/pytorch_model.bin\")\n",
    "\n",
    "# Load the weights into the TIMM model\n",
    "model.load_state_dict(model_weights)"
   ]
  }
 ],
 "metadata": {
  "kernelspec": {
   "display_name": "autogluon_112",
   "language": "python",
   "name": "python3"
  },
  "language_info": {
   "codemirror_mode": {
    "name": "ipython",
    "version": 3
   },
   "file_extension": ".py",
   "mimetype": "text/x-python",
   "name": "python",
   "nbconvert_exporter": "python",
   "pygments_lexer": "ipython3",
   "version": "3.10.15"
  }
 },
 "nbformat": 4,
 "nbformat_minor": 2
}
